{
 "cells": [
  {
   "cell_type": "code",
   "execution_count": 1,
   "metadata": {},
   "outputs": [],
   "source": [
    "import pandas as pd\n",
    "import plotly.express as px"
   ]
  },
  {
   "cell_type": "code",
   "execution_count": 2,
   "metadata": {},
   "outputs": [],
   "source": [
    "pd.set_option('display.max_columns', None)"
   ]
  },
  {
   "cell_type": "code",
   "execution_count": 3,
   "metadata": {},
   "outputs": [
    {
     "data": {
      "text/html": [
       "<div>\n",
       "<style scoped>\n",
       "    .dataframe tbody tr th:only-of-type {\n",
       "        vertical-align: middle;\n",
       "    }\n",
       "\n",
       "    .dataframe tbody tr th {\n",
       "        vertical-align: top;\n",
       "    }\n",
       "\n",
       "    .dataframe thead th {\n",
       "        text-align: right;\n",
       "    }\n",
       "</style>\n",
       "<table border=\"1\" class=\"dataframe\">\n",
       "  <thead>\n",
       "    <tr style=\"text-align: right;\">\n",
       "      <th></th>\n",
       "      <th>area_abbreviation</th>\n",
       "      <th>area_code</th>\n",
       "      <th>area</th>\n",
       "      <th>item_code</th>\n",
       "      <th>item</th>\n",
       "      <th>element_code</th>\n",
       "      <th>element</th>\n",
       "      <th>unit</th>\n",
       "      <th>latitude</th>\n",
       "      <th>longitude</th>\n",
       "      <th>y1961</th>\n",
       "      <th>y1962</th>\n",
       "      <th>y1963</th>\n",
       "      <th>y1964</th>\n",
       "      <th>y1965</th>\n",
       "      <th>y1966</th>\n",
       "      <th>y1967</th>\n",
       "      <th>y1968</th>\n",
       "      <th>y1969</th>\n",
       "      <th>y1970</th>\n",
       "      <th>y1971</th>\n",
       "      <th>y1972</th>\n",
       "      <th>y1973</th>\n",
       "      <th>y1974</th>\n",
       "      <th>y1975</th>\n",
       "      <th>y1976</th>\n",
       "      <th>y1977</th>\n",
       "      <th>y1978</th>\n",
       "      <th>y1979</th>\n",
       "      <th>y1980</th>\n",
       "      <th>y1981</th>\n",
       "      <th>y1982</th>\n",
       "      <th>y1983</th>\n",
       "      <th>y1984</th>\n",
       "      <th>y1985</th>\n",
       "      <th>y1986</th>\n",
       "      <th>y1987</th>\n",
       "      <th>y1988</th>\n",
       "      <th>y1989</th>\n",
       "      <th>y1990</th>\n",
       "      <th>y1991</th>\n",
       "      <th>y1992</th>\n",
       "      <th>y1993</th>\n",
       "      <th>y1994</th>\n",
       "      <th>y1995</th>\n",
       "      <th>y1996</th>\n",
       "      <th>y1997</th>\n",
       "      <th>y1998</th>\n",
       "      <th>y1999</th>\n",
       "      <th>y2000</th>\n",
       "      <th>y2001</th>\n",
       "      <th>y2002</th>\n",
       "      <th>y2003</th>\n",
       "      <th>y2004</th>\n",
       "      <th>y2005</th>\n",
       "      <th>y2006</th>\n",
       "      <th>y2007</th>\n",
       "      <th>y2008</th>\n",
       "      <th>y2009</th>\n",
       "      <th>y2010</th>\n",
       "      <th>y2011</th>\n",
       "      <th>y2012</th>\n",
       "      <th>y2013</th>\n",
       "      <th>domain_code</th>\n",
       "      <th>domain</th>\n",
       "      <th>population_element_code</th>\n",
       "      <th>population_element</th>\n",
       "      <th>population_item_code</th>\n",
       "      <th>population_item</th>\n",
       "      <th>year_code</th>\n",
       "      <th>year</th>\n",
       "      <th>population_unit</th>\n",
       "      <th>value</th>\n",
       "      <th>flag</th>\n",
       "      <th>flag_description</th>\n",
       "      <th>note</th>\n",
       "      <th>years_existing</th>\n",
       "      <th>average_production</th>\n",
       "      <th>value_per_capita</th>\n",
       "      <th>iso_alpha3</th>\n",
       "      <th>continent</th>\n",
       "    </tr>\n",
       "  </thead>\n",
       "  <tbody>\n",
       "    <tr>\n",
       "      <th>3443</th>\n",
       "      <td>CAN</td>\n",
       "      <td>33</td>\n",
       "      <td>Canada</td>\n",
       "      <td>2613</td>\n",
       "      <td>Grapefruit and products</td>\n",
       "      <td>5142</td>\n",
       "      <td>Food</td>\n",
       "      <td>1000 tonnes</td>\n",
       "      <td>56.13</td>\n",
       "      <td>-106.35</td>\n",
       "      <td>123.0</td>\n",
       "      <td>119.0</td>\n",
       "      <td>89.0</td>\n",
       "      <td>81.0</td>\n",
       "      <td>99.0</td>\n",
       "      <td>95.0</td>\n",
       "      <td>129.0</td>\n",
       "      <td>108.0</td>\n",
       "      <td>148.0</td>\n",
       "      <td>146.0</td>\n",
       "      <td>143.0</td>\n",
       "      <td>137.0</td>\n",
       "      <td>145.0</td>\n",
       "      <td>144.0</td>\n",
       "      <td>135.0</td>\n",
       "      <td>147.0</td>\n",
       "      <td>139.0</td>\n",
       "      <td>160.0</td>\n",
       "      <td>153.0</td>\n",
       "      <td>149.0</td>\n",
       "      <td>122.0</td>\n",
       "      <td>113.0</td>\n",
       "      <td>110.0</td>\n",
       "      <td>78.0</td>\n",
       "      <td>78.0</td>\n",
       "      <td>86.0</td>\n",
       "      <td>88.0</td>\n",
       "      <td>98.0</td>\n",
       "      <td>121.0</td>\n",
       "      <td>107.0</td>\n",
       "      <td>121.0</td>\n",
       "      <td>111.0</td>\n",
       "      <td>114.0</td>\n",
       "      <td>127.0</td>\n",
       "      <td>130.0</td>\n",
       "      <td>131.0</td>\n",
       "      <td>131.0</td>\n",
       "      <td>103.0</td>\n",
       "      <td>118.0</td>\n",
       "      <td>127.0</td>\n",
       "      <td>116.0</td>\n",
       "      <td>131.0</td>\n",
       "      <td>116.0</td>\n",
       "      <td>122.0</td>\n",
       "      <td>104.0</td>\n",
       "      <td>97.0</td>\n",
       "      <td>93.0</td>\n",
       "      <td>98.0</td>\n",
       "      <td>86.0</td>\n",
       "      <td>80.0</td>\n",
       "      <td>80.0</td>\n",
       "      <td>77</td>\n",
       "      <td>71</td>\n",
       "      <td>OA</td>\n",
       "      <td>Annual population</td>\n",
       "      <td>511</td>\n",
       "      <td>Total Population - Both sexes</td>\n",
       "      <td>3010</td>\n",
       "      <td>Population - Est. &amp; Proj.</td>\n",
       "      <td>2017</td>\n",
       "      <td>2017</td>\n",
       "      <td>1000</td>\n",
       "      <td>36624.199</td>\n",
       "      <td>X</td>\n",
       "      <td>International reliable sources</td>\n",
       "      <td>UNDESA, Population Division â World Populati...</td>\n",
       "      <td>53</td>\n",
       "      <td>114.603774</td>\n",
       "      <td>36.624199</td>\n",
       "      <td>CAN</td>\n",
       "      <td>North America</td>\n",
       "    </tr>\n",
       "    <tr>\n",
       "      <th>7055</th>\n",
       "      <td>PYF</td>\n",
       "      <td>70</td>\n",
       "      <td>French Polynesia</td>\n",
       "      <td>2515</td>\n",
       "      <td>Rye and products</td>\n",
       "      <td>5521</td>\n",
       "      <td>Feed</td>\n",
       "      <td>1000 tonnes</td>\n",
       "      <td>-17.68</td>\n",
       "      <td>-149.41</td>\n",
       "      <td>0.0</td>\n",
       "      <td>0.0</td>\n",
       "      <td>0.0</td>\n",
       "      <td>0.0</td>\n",
       "      <td>0.0</td>\n",
       "      <td>0.0</td>\n",
       "      <td>0.0</td>\n",
       "      <td>0.0</td>\n",
       "      <td>0.0</td>\n",
       "      <td>0.0</td>\n",
       "      <td>0.0</td>\n",
       "      <td>0.0</td>\n",
       "      <td>0.0</td>\n",
       "      <td>0.0</td>\n",
       "      <td>0.0</td>\n",
       "      <td>0.0</td>\n",
       "      <td>0.0</td>\n",
       "      <td>0.0</td>\n",
       "      <td>0.0</td>\n",
       "      <td>0.0</td>\n",
       "      <td>0.0</td>\n",
       "      <td>0.0</td>\n",
       "      <td>0.0</td>\n",
       "      <td>0.0</td>\n",
       "      <td>0.0</td>\n",
       "      <td>0.0</td>\n",
       "      <td>0.0</td>\n",
       "      <td>0.0</td>\n",
       "      <td>0.0</td>\n",
       "      <td>0.0</td>\n",
       "      <td>0.0</td>\n",
       "      <td>0.0</td>\n",
       "      <td>0.0</td>\n",
       "      <td>0.0</td>\n",
       "      <td>0.0</td>\n",
       "      <td>0.0</td>\n",
       "      <td>0.0</td>\n",
       "      <td>0.0</td>\n",
       "      <td>0.0</td>\n",
       "      <td>0.0</td>\n",
       "      <td>0.0</td>\n",
       "      <td>0.0</td>\n",
       "      <td>0.0</td>\n",
       "      <td>0.0</td>\n",
       "      <td>0.0</td>\n",
       "      <td>0.0</td>\n",
       "      <td>0.0</td>\n",
       "      <td>0.0</td>\n",
       "      <td>0.0</td>\n",
       "      <td>0.0</td>\n",
       "      <td>0.0</td>\n",
       "      <td>0</td>\n",
       "      <td>0</td>\n",
       "      <td>OA</td>\n",
       "      <td>Annual population</td>\n",
       "      <td>511</td>\n",
       "      <td>Total Population - Both sexes</td>\n",
       "      <td>3010</td>\n",
       "      <td>Population - Est. &amp; Proj.</td>\n",
       "      <td>2017</td>\n",
       "      <td>2017</td>\n",
       "      <td>1000</td>\n",
       "      <td>283.007</td>\n",
       "      <td>X</td>\n",
       "      <td>International reliable sources</td>\n",
       "      <td>UNDESA, Population Division â World Populati...</td>\n",
       "      <td>53</td>\n",
       "      <td>0.000000</td>\n",
       "      <td>0.283007</td>\n",
       "      <td>PYF</td>\n",
       "      <td>Oceania</td>\n",
       "    </tr>\n",
       "    <tr>\n",
       "      <th>14748</th>\n",
       "      <td>PAK</td>\n",
       "      <td>165</td>\n",
       "      <td>Pakistan</td>\n",
       "      <td>2534</td>\n",
       "      <td>Roots, Other</td>\n",
       "      <td>5142</td>\n",
       "      <td>Food</td>\n",
       "      <td>1000 tonnes</td>\n",
       "      <td>30.38</td>\n",
       "      <td>69.35</td>\n",
       "      <td>0.0</td>\n",
       "      <td>0.0</td>\n",
       "      <td>0.0</td>\n",
       "      <td>0.0</td>\n",
       "      <td>0.0</td>\n",
       "      <td>0.0</td>\n",
       "      <td>0.0</td>\n",
       "      <td>0.0</td>\n",
       "      <td>0.0</td>\n",
       "      <td>0.0</td>\n",
       "      <td>0.0</td>\n",
       "      <td>0.0</td>\n",
       "      <td>1.0</td>\n",
       "      <td>0.0</td>\n",
       "      <td>2.0</td>\n",
       "      <td>1.0</td>\n",
       "      <td>1.0</td>\n",
       "      <td>0.0</td>\n",
       "      <td>20.0</td>\n",
       "      <td>187.0</td>\n",
       "      <td>159.0</td>\n",
       "      <td>194.0</td>\n",
       "      <td>218.0</td>\n",
       "      <td>237.0</td>\n",
       "      <td>230.0</td>\n",
       "      <td>217.0</td>\n",
       "      <td>296.0</td>\n",
       "      <td>312.0</td>\n",
       "      <td>296.0</td>\n",
       "      <td>300.0</td>\n",
       "      <td>320.0</td>\n",
       "      <td>348.0</td>\n",
       "      <td>369.0</td>\n",
       "      <td>373.0</td>\n",
       "      <td>396.0</td>\n",
       "      <td>429.0</td>\n",
       "      <td>441.0</td>\n",
       "      <td>443.0</td>\n",
       "      <td>442.0</td>\n",
       "      <td>424.0</td>\n",
       "      <td>428.0</td>\n",
       "      <td>430.0</td>\n",
       "      <td>412.0</td>\n",
       "      <td>454.0</td>\n",
       "      <td>458.0</td>\n",
       "      <td>470.0</td>\n",
       "      <td>468.0</td>\n",
       "      <td>432.0</td>\n",
       "      <td>430.0</td>\n",
       "      <td>416.0</td>\n",
       "      <td>481.0</td>\n",
       "      <td>477</td>\n",
       "      <td>481</td>\n",
       "      <td>OA</td>\n",
       "      <td>Annual population</td>\n",
       "      <td>511</td>\n",
       "      <td>Total Population - Both sexes</td>\n",
       "      <td>3010</td>\n",
       "      <td>Population - Est. &amp; Proj.</td>\n",
       "      <td>2017</td>\n",
       "      <td>2017</td>\n",
       "      <td>1000</td>\n",
       "      <td>197015.955</td>\n",
       "      <td>X</td>\n",
       "      <td>International reliable sources</td>\n",
       "      <td>UNDESA, Population Division â World Populati...</td>\n",
       "      <td>53</td>\n",
       "      <td>235.716981</td>\n",
       "      <td>197.015955</td>\n",
       "      <td>PAK</td>\n",
       "      <td>Asia</td>\n",
       "    </tr>\n",
       "  </tbody>\n",
       "</table>\n",
       "</div>"
      ],
      "text/plain": [
       "      area_abbreviation  area_code              area  item_code  \\\n",
       "3443                CAN         33            Canada       2613   \n",
       "7055                PYF         70  French Polynesia       2515   \n",
       "14748               PAK        165          Pakistan       2534   \n",
       "\n",
       "                          item  element_code element         unit  latitude  \\\n",
       "3443   Grapefruit and products          5142    Food  1000 tonnes     56.13   \n",
       "7055          Rye and products          5521    Feed  1000 tonnes    -17.68   \n",
       "14748             Roots, Other          5142    Food  1000 tonnes     30.38   \n",
       "\n",
       "       longitude  y1961  y1962  y1963  y1964  y1965  y1966  y1967  y1968  \\\n",
       "3443     -106.35  123.0  119.0   89.0   81.0   99.0   95.0  129.0  108.0   \n",
       "7055     -149.41    0.0    0.0    0.0    0.0    0.0    0.0    0.0    0.0   \n",
       "14748      69.35    0.0    0.0    0.0    0.0    0.0    0.0    0.0    0.0   \n",
       "\n",
       "       y1969  y1970  y1971  y1972  y1973  y1974  y1975  y1976  y1977  y1978  \\\n",
       "3443   148.0  146.0  143.0  137.0  145.0  144.0  135.0  147.0  139.0  160.0   \n",
       "7055     0.0    0.0    0.0    0.0    0.0    0.0    0.0    0.0    0.0    0.0   \n",
       "14748    0.0    0.0    0.0    0.0    1.0    0.0    2.0    1.0    1.0    0.0   \n",
       "\n",
       "       y1979  y1980  y1981  y1982  y1983  y1984  y1985  y1986  y1987  y1988  \\\n",
       "3443   153.0  149.0  122.0  113.0  110.0   78.0   78.0   86.0   88.0   98.0   \n",
       "7055     0.0    0.0    0.0    0.0    0.0    0.0    0.0    0.0    0.0    0.0   \n",
       "14748   20.0  187.0  159.0  194.0  218.0  237.0  230.0  217.0  296.0  312.0   \n",
       "\n",
       "       y1989  y1990  y1991  y1992  y1993  y1994  y1995  y1996  y1997  y1998  \\\n",
       "3443   121.0  107.0  121.0  111.0  114.0  127.0  130.0  131.0  131.0  103.0   \n",
       "7055     0.0    0.0    0.0    0.0    0.0    0.0    0.0    0.0    0.0    0.0   \n",
       "14748  296.0  300.0  320.0  348.0  369.0  373.0  396.0  429.0  441.0  443.0   \n",
       "\n",
       "       y1999  y2000  y2001  y2002  y2003  y2004  y2005  y2006  y2007  y2008  \\\n",
       "3443   118.0  127.0  116.0  131.0  116.0  122.0  104.0   97.0   93.0   98.0   \n",
       "7055     0.0    0.0    0.0    0.0    0.0    0.0    0.0    0.0    0.0    0.0   \n",
       "14748  442.0  424.0  428.0  430.0  412.0  454.0  458.0  470.0  468.0  432.0   \n",
       "\n",
       "       y2009  y2010  y2011  y2012  y2013 domain_code             domain  \\\n",
       "3443    86.0   80.0   80.0     77     71          OA  Annual population   \n",
       "7055     0.0    0.0    0.0      0      0          OA  Annual population   \n",
       "14748  430.0  416.0  481.0    477    481          OA  Annual population   \n",
       "\n",
       "       population_element_code             population_element  \\\n",
       "3443                       511  Total Population - Both sexes   \n",
       "7055                       511  Total Population - Both sexes   \n",
       "14748                      511  Total Population - Both sexes   \n",
       "\n",
       "       population_item_code            population_item  year_code  year  \\\n",
       "3443                   3010  Population - Est. & Proj.       2017  2017   \n",
       "7055                   3010  Population - Est. & Proj.       2017  2017   \n",
       "14748                  3010  Population - Est. & Proj.       2017  2017   \n",
       "\n",
       "       population_unit       value flag                flag_description  \\\n",
       "3443              1000   36624.199    X  International reliable sources   \n",
       "7055              1000     283.007    X  International reliable sources   \n",
       "14748             1000  197015.955    X  International reliable sources   \n",
       "\n",
       "                                                    note  years_existing  \\\n",
       "3443   UNDESA, Population Division â World Populati...              53   \n",
       "7055   UNDESA, Population Division â World Populati...              53   \n",
       "14748  UNDESA, Population Division â World Populati...              53   \n",
       "\n",
       "       average_production  value_per_capita iso_alpha3      continent  \n",
       "3443           114.603774         36.624199        CAN  North America  \n",
       "7055             0.000000          0.283007        PYF        Oceania  \n",
       "14748          235.716981        197.015955        PAK           Asia  "
      ]
     },
     "execution_count": 3,
     "metadata": {},
     "output_type": "execute_result"
    }
   ],
   "source": [
    "merged_df = pd.read_csv('merged_df.csv', encoding='iso-8859-1')\n",
    "\n",
    "merged_df.sample(3)"
   ]
  },
  {
   "cell_type": "code",
   "execution_count": 4,
   "metadata": {},
   "outputs": [
    {
     "data": {
      "text/html": [
       "<div>\n",
       "<style scoped>\n",
       "    .dataframe tbody tr th:only-of-type {\n",
       "        vertical-align: middle;\n",
       "    }\n",
       "\n",
       "    .dataframe tbody tr th {\n",
       "        vertical-align: top;\n",
       "    }\n",
       "\n",
       "    .dataframe thead th {\n",
       "        text-align: right;\n",
       "    }\n",
       "</style>\n",
       "<table border=\"1\" class=\"dataframe\">\n",
       "  <thead>\n",
       "    <tr style=\"text-align: right;\">\n",
       "      <th></th>\n",
       "      <th>iso_alpha3</th>\n",
       "      <th>area</th>\n",
       "      <th>value</th>\n",
       "      <th>value_per_capita</th>\n",
       "      <th>average_production</th>\n",
       "    </tr>\n",
       "  </thead>\n",
       "  <tbody>\n",
       "    <tr>\n",
       "      <th>0</th>\n",
       "      <td>AFG</td>\n",
       "      <td>Afghanistan</td>\n",
       "      <td>35530.081</td>\n",
       "      <td>35.530081</td>\n",
       "      <td>156.663333</td>\n",
       "    </tr>\n",
       "    <tr>\n",
       "      <th>1</th>\n",
       "      <td>AGO</td>\n",
       "      <td>Angola</td>\n",
       "      <td>29784.193</td>\n",
       "      <td>29.784193</td>\n",
       "      <td>122.211528</td>\n",
       "    </tr>\n",
       "    <tr>\n",
       "      <th>2</th>\n",
       "      <td>ALB</td>\n",
       "      <td>Albania</td>\n",
       "      <td>2930.187</td>\n",
       "      <td>2.930187</td>\n",
       "      <td>36.386256</td>\n",
       "    </tr>\n",
       "    <tr>\n",
       "      <th>3</th>\n",
       "      <td>ARE</td>\n",
       "      <td>United Arab Emirates</td>\n",
       "      <td>9400.145</td>\n",
       "      <td>9.400145</td>\n",
       "      <td>34.384687</td>\n",
       "    </tr>\n",
       "    <tr>\n",
       "      <th>4</th>\n",
       "      <td>ARG</td>\n",
       "      <td>Argentina</td>\n",
       "      <td>44271.041</td>\n",
       "      <td>44.271041</td>\n",
       "      <td>503.171192</td>\n",
       "    </tr>\n",
       "    <tr>\n",
       "      <th>...</th>\n",
       "      <td>...</td>\n",
       "      <td>...</td>\n",
       "      <td>...</td>\n",
       "      <td>...</td>\n",
       "      <td>...</td>\n",
       "    </tr>\n",
       "    <tr>\n",
       "      <th>167</th>\n",
       "      <td>WSM</td>\n",
       "      <td>Samoa</td>\n",
       "      <td>196.440</td>\n",
       "      <td>0.196440</td>\n",
       "      <td>2.329665</td>\n",
       "    </tr>\n",
       "    <tr>\n",
       "      <th>168</th>\n",
       "      <td>YEM</td>\n",
       "      <td>Yemen</td>\n",
       "      <td>28250.420</td>\n",
       "      <td>28.250420</td>\n",
       "      <td>72.900745</td>\n",
       "    </tr>\n",
       "    <tr>\n",
       "      <th>169</th>\n",
       "      <td>ZAF</td>\n",
       "      <td>South Africa</td>\n",
       "      <td>56717.156</td>\n",
       "      <td>56.717156</td>\n",
       "      <td>329.053100</td>\n",
       "    </tr>\n",
       "    <tr>\n",
       "      <th>170</th>\n",
       "      <td>ZMB</td>\n",
       "      <td>Zambia</td>\n",
       "      <td>17094.130</td>\n",
       "      <td>17.094130</td>\n",
       "      <td>49.636321</td>\n",
       "    </tr>\n",
       "    <tr>\n",
       "      <th>171</th>\n",
       "      <td>ZWE</td>\n",
       "      <td>Zimbabwe</td>\n",
       "      <td>16529.904</td>\n",
       "      <td>16.529904</td>\n",
       "      <td>54.747076</td>\n",
       "    </tr>\n",
       "  </tbody>\n",
       "</table>\n",
       "<p>172 rows × 5 columns</p>\n",
       "</div>"
      ],
      "text/plain": [
       "    iso_alpha3                  area      value  value_per_capita  \\\n",
       "0          AFG           Afghanistan  35530.081         35.530081   \n",
       "1          AGO                Angola  29784.193         29.784193   \n",
       "2          ALB               Albania   2930.187          2.930187   \n",
       "3          ARE  United Arab Emirates   9400.145          9.400145   \n",
       "4          ARG             Argentina  44271.041         44.271041   \n",
       "..         ...                   ...        ...               ...   \n",
       "167        WSM                 Samoa    196.440          0.196440   \n",
       "168        YEM                 Yemen  28250.420         28.250420   \n",
       "169        ZAF          South Africa  56717.156         56.717156   \n",
       "170        ZMB                Zambia  17094.130         17.094130   \n",
       "171        ZWE              Zimbabwe  16529.904         16.529904   \n",
       "\n",
       "     average_production  \n",
       "0            156.663333  \n",
       "1            122.211528  \n",
       "2             36.386256  \n",
       "3             34.384687  \n",
       "4            503.171192  \n",
       "..                  ...  \n",
       "167            2.329665  \n",
       "168           72.900745  \n",
       "169          329.053100  \n",
       "170           49.636321  \n",
       "171           54.747076  \n",
       "\n",
       "[172 rows x 5 columns]"
      ]
     },
     "execution_count": 4,
     "metadata": {},
     "output_type": "execute_result"
    }
   ],
   "source": [
    "avg_data_per_country = merged_df.groupby(['iso_alpha3', 'area'], as_index=False).agg({\n",
    "    'value': 'mean', \n",
    "    'value_per_capita': 'mean',\n",
    "    'average_production': 'mean'\n",
    "})\n",
    "\n",
    "avg_data_per_country"
   ]
  },
  {
   "cell_type": "code",
   "execution_count": 5,
   "metadata": {},
   "outputs": [
    {
     "data": {
      "application/vnd.plotly.v1+json": {
       "config": {
        "plotlyServerURL": "https://plot.ly"
       },
       "data": [
        {
         "coloraxis": "coloraxis",
         "geo": "geo",
         "hovertemplate": "<b>%{hovertext}</b><br><br>iso_alpha3=%{location}<br>value_per_capita=%{z}<extra></extra>",
         "hovertext": [
          "Afghanistan",
          "Angola",
          "Albania",
          "United Arab Emirates",
          "Argentina",
          "Armenia",
          "Antigua and Barbuda",
          "Australia",
          "Austria",
          "Azerbaijan",
          "Belgium",
          "Benin",
          "Burkina Faso",
          "Bangladesh",
          "Bulgaria",
          "Bahamas",
          "Bosnia and Herzegovina",
          "Belarus",
          "Belize",
          "Bermuda",
          "Bolivia (Plurinational State of)",
          "Brazil",
          "Barbados",
          "Brunei Darussalam",
          "Botswana",
          "Central African Republic",
          "Canada",
          "Switzerland",
          "Chile",
          "China, mainland",
          "CÃ´te d'Ivoire",
          "Cameroon",
          "Congo",
          "Colombia",
          "Cabo Verde",
          "Costa Rica",
          "Cuba",
          "Cyprus",
          "Czechia",
          "Germany",
          "Djibouti",
          "Dominica",
          "Denmark",
          "Dominican Republic",
          "Algeria",
          "Ecuador",
          "Egypt",
          "Spain",
          "Estonia",
          "Ethiopia",
          "Finland",
          "Fiji",
          "France",
          "Gabon",
          "United Kingdom",
          "Georgia",
          "Ghana",
          "Guinea",
          "Gambia",
          "Guinea-Bissau",
          "Greece",
          "Grenada",
          "Guatemala",
          "Guyana",
          "China, Hong Kong SAR",
          "Honduras",
          "Croatia",
          "Haiti",
          "Hungary",
          "Indonesia",
          "India",
          "Ireland",
          "Iran (Islamic Republic of)",
          "Iraq",
          "Iceland",
          "Israel",
          "Italy",
          "Jamaica",
          "Jordan",
          "Japan",
          "Kazakhstan",
          "Kenya",
          "Kyrgyzstan",
          "Cambodia",
          "Kiribati",
          "Saint Kitts and Nevis",
          "Republic of Korea",
          "Kuwait",
          "Lao People's Democratic Republic",
          "Lebanon",
          "Liberia",
          "Saint Lucia",
          "Sri Lanka",
          "Lesotho",
          "Lithuania",
          "Luxembourg",
          "Latvia",
          "China, Macao SAR",
          "Morocco",
          "Republic of Moldova",
          "Madagascar",
          "Maldives",
          "Mexico",
          "Mali",
          "Malta",
          "Myanmar",
          "Montenegro",
          "Mongolia",
          "Mozambique",
          "Mauritania",
          "Mauritius",
          "Malawi",
          "Malaysia",
          "Namibia",
          "New Caledonia",
          "Niger",
          "Nigeria",
          "Nicaragua",
          "Netherlands",
          "Norway",
          "Nepal",
          "New Zealand",
          "Oman",
          "Pakistan",
          "Panama",
          "Peru",
          "Philippines",
          "Poland",
          "Democratic People's Republic of Korea",
          "Portugal",
          "Paraguay",
          "French Polynesia",
          "Romania",
          "Russian Federation",
          "Rwanda",
          "Saudi Arabia",
          "Sudan",
          "Senegal",
          "Solomon Islands",
          "Sierra Leone",
          "El Salvador",
          "Serbia",
          "Sao Tome and Principe",
          "Suriname",
          "Slovakia",
          "Slovenia",
          "Sweden",
          "Chad",
          "Togo",
          "Thailand",
          "Tajikistan",
          "Turkmenistan",
          "Timor-Leste",
          "Trinidad and Tobago",
          "Tunisia",
          "Turkey",
          "China, Taiwan Province of",
          "United Republic of Tanzania",
          "Uganda",
          "Ukraine",
          "Uruguay",
          "United States of America",
          "Uzbekistan",
          "Saint Vincent and the Grenadines",
          "Venezuela (Bolivarian Republic of)",
          "Viet Nam",
          "Vanuatu",
          "Samoa",
          "Yemen",
          "South Africa",
          "Zambia",
          "Zimbabwe"
         ],
         "locations": [
          "AFG",
          "AGO",
          "ALB",
          "ARE",
          "ARG",
          "ARM",
          "ATG",
          "AUS",
          "AUT",
          "AZE",
          "BEL",
          "BEN",
          "BFA",
          "BGD",
          "BGR",
          "BHS",
          "BIH",
          "BLR",
          "BLZ",
          "BMU",
          "BOL",
          "BRA",
          "BRB",
          "BRN",
          "BWA",
          "CAF",
          "CAN",
          "CHE",
          "CHL",
          "CHN",
          "CIV",
          "CMR",
          "COG",
          "COL",
          "CPV",
          "CRI",
          "CUB",
          "CYP",
          "CZE",
          "DEU",
          "DJI",
          "DMA",
          "DNK",
          "DOM",
          "DZA",
          "ECU",
          "EGY",
          "ESP",
          "EST",
          "ETH",
          "FIN",
          "FJI",
          "FRA",
          "GAB",
          "GBR",
          "GEO",
          "GHA",
          "GIN",
          "GMB",
          "GNB",
          "GRC",
          "GRD",
          "GTM",
          "GUY",
          "HKG",
          "HND",
          "HRV",
          "HTI",
          "HUN",
          "IDN",
          "IND",
          "IRL",
          "IRN",
          "IRQ",
          "ISL",
          "ISR",
          "ITA",
          "JAM",
          "JOR",
          "JPN",
          "KAZ",
          "KEN",
          "KGZ",
          "KHM",
          "KIR",
          "KNA",
          "KOR",
          "KWT",
          "LAO",
          "LBN",
          "LBR",
          "LCA",
          "LKA",
          "LSO",
          "LTU",
          "LUX",
          "LVA",
          "MAC",
          "MAR",
          "MDA",
          "MDG",
          "MDV",
          "MEX",
          "MLI",
          "MLT",
          "MMR",
          "MNE",
          "MNG",
          "MOZ",
          "MRT",
          "MUS",
          "MWI",
          "MYS",
          "NAM",
          "NCL",
          "NER",
          "NGA",
          "NIC",
          "NLD",
          "NOR",
          "NPL",
          "NZL",
          "OMN",
          "PAK",
          "PAN",
          "PER",
          "PHL",
          "POL",
          "PRK",
          "PRT",
          "PRY",
          "PYF",
          "ROU",
          "RUS",
          "RWA",
          "SAU",
          "SDN",
          "SEN",
          "SLB",
          "SLE",
          "SLV",
          "SRB",
          "STP",
          "SUR",
          "SVK",
          "SVN",
          "SWE",
          "TCD",
          "TGO",
          "THA",
          "TJK",
          "TKM",
          "TLS",
          "TTO",
          "TUN",
          "TUR",
          "TWN",
          "TZA",
          "UGA",
          "UKR",
          "URY",
          "USA",
          "UZB",
          "VCT",
          "VEN",
          "VNM",
          "VUT",
          "WSM",
          "YEM",
          "ZAF",
          "ZMB",
          "ZWE"
         ],
         "name": "",
         "type": "choropleth",
         "z": [
          35.530081,
          29.784193,
          2.930187,
          9.400145,
          44.271041,
          2.93045,
          0.102012,
          24.450561,
          8.735453,
          9.827589,
          11.429336,
          11.175692,
          19.193382,
          164.669751,
          7.084571,
          0.3953609999999999,
          3.507017,
          9.468338,
          0.374681,
          0.06134899999999989,
          11.0516,
          209.288278,
          0.285719,
          0.428697,
          2.291661,
          4.65908,
          36.624199,
          8.476004999999999,
          18.054726,
          1409.517397,
          24.29475,
          24.053727,
          5.26075,
          49.065615,
          0.546388,
          4.905769,
          11.484636,
          1.179551,
          10.618303,
          82.11422400000001,
          0.956985,
          0.0739249999999999,
          5.733551,
          10.766998,
          41.318142,
          16.624858,
          97.553151,
          46.354321000000006,
          1.309632,
          104.957438,
          5.523231,
          0.905502,
          64.97954800000001,
          2.025137,
          66.18158500000001,
          3.912061,
          28.833629,
          12.717176,
          2.100568,
          1.861283,
          11.159773,
          0.107825,
          16.913503000000002,
          0.7778590000000001,
          7.364883,
          9.265066999999998,
          4.189353,
          10.981229,
          9.721559,
          263.991379,
          1339.180127,
          4.7616570000000005,
          81.162788,
          38.274618,
          0.3350249999999999,
          8.32157,
          59.359899999999996,
          2.890299,
          9.702353,
          127.48445,
          18.204499,
          49.699862,
          6.045117,
          16.005373,
          0.116398,
          0.055345,
          50.982212,
          4.136528,
          6.858160000000001,
          6.082357,
          4.731906,
          0.178844,
          20.876917,
          2.233339,
          2.890297,
          0.5834550000000001,
          1.94967,
          0.622567,
          35.739580000000004,
          4.051212,
          25.570895,
          0.43633,
          129.163276,
          18.54198,
          0.4308349999999999,
          53.370609,
          0.6289600000000001,
          3.075647,
          29.668834,
          4.420184,
          1.265138,
          18.622104,
          31.624264,
          2.533794,
          0.276255,
          21.477348000000003,
          190.886311,
          6.217581,
          17.035937999999998,
          5.305383,
          29.304998,
          4.705818,
          4.636261999999999,
          197.015955,
          4.098587,
          32.165485000000004,
          104.91809,
          38.170712,
          25.490965,
          10.329506,
          6.811297,
          0.283007,
          19.679306,
          143.98975399999998,
          12.208407,
          32.938213000000005,
          40.53332999999999,
          15.850567,
          0.611343,
          7.557212000000001,
          6.377853,
          8.790574000000001,
          0.204327,
          0.5634020000000001,
          5.447662,
          2.0799760000000003,
          9.910701,
          14.899994,
          7.797694,
          69.037513,
          8.921343,
          5.758075000000001,
          1.296311,
          1.369125,
          11.532127,
          80.74502000000001,
          23.626456,
          57.310019,
          42.862958,
          44.222947,
          3.45675,
          324.459463,
          31.910641,
          0.10989699999999998,
          31.977064999999996,
          95.5408,
          0.276244,
          0.19644,
          28.25042,
          56.717156,
          17.09413,
          16.529904
         ]
        }
       ],
       "layout": {
        "coloraxis": {
         "colorbar": {
          "title": {
           "text": "value_per_capita"
          }
         },
         "colorscale": [
          [
           0,
           "#0d0887"
          ],
          [
           0.1111111111111111,
           "#46039f"
          ],
          [
           0.2222222222222222,
           "#7201a8"
          ],
          [
           0.3333333333333333,
           "#9c179e"
          ],
          [
           0.4444444444444444,
           "#bd3786"
          ],
          [
           0.5555555555555556,
           "#d8576b"
          ],
          [
           0.6666666666666666,
           "#ed7953"
          ],
          [
           0.7777777777777778,
           "#fb9f3a"
          ],
          [
           0.8888888888888888,
           "#fdca26"
          ],
          [
           1,
           "#f0f921"
          ]
         ]
        },
        "geo": {
         "center": {},
         "domain": {
          "x": [
           0,
           1
          ],
          "y": [
           0,
           1
          ]
         },
         "projection": {
          "type": "equirectangular"
         }
        },
        "legend": {
         "tracegroupgap": 0
        },
        "template": {
         "data": {
          "bar": [
           {
            "error_x": {
             "color": "#2a3f5f"
            },
            "error_y": {
             "color": "#2a3f5f"
            },
            "marker": {
             "line": {
              "color": "#E5ECF6",
              "width": 0.5
             },
             "pattern": {
              "fillmode": "overlay",
              "size": 10,
              "solidity": 0.2
             }
            },
            "type": "bar"
           }
          ],
          "barpolar": [
           {
            "marker": {
             "line": {
              "color": "#E5ECF6",
              "width": 0.5
             },
             "pattern": {
              "fillmode": "overlay",
              "size": 10,
              "solidity": 0.2
             }
            },
            "type": "barpolar"
           }
          ],
          "carpet": [
           {
            "aaxis": {
             "endlinecolor": "#2a3f5f",
             "gridcolor": "white",
             "linecolor": "white",
             "minorgridcolor": "white",
             "startlinecolor": "#2a3f5f"
            },
            "baxis": {
             "endlinecolor": "#2a3f5f",
             "gridcolor": "white",
             "linecolor": "white",
             "minorgridcolor": "white",
             "startlinecolor": "#2a3f5f"
            },
            "type": "carpet"
           }
          ],
          "choropleth": [
           {
            "colorbar": {
             "outlinewidth": 0,
             "ticks": ""
            },
            "type": "choropleth"
           }
          ],
          "contour": [
           {
            "colorbar": {
             "outlinewidth": 0,
             "ticks": ""
            },
            "colorscale": [
             [
              0,
              "#0d0887"
             ],
             [
              0.1111111111111111,
              "#46039f"
             ],
             [
              0.2222222222222222,
              "#7201a8"
             ],
             [
              0.3333333333333333,
              "#9c179e"
             ],
             [
              0.4444444444444444,
              "#bd3786"
             ],
             [
              0.5555555555555556,
              "#d8576b"
             ],
             [
              0.6666666666666666,
              "#ed7953"
             ],
             [
              0.7777777777777778,
              "#fb9f3a"
             ],
             [
              0.8888888888888888,
              "#fdca26"
             ],
             [
              1,
              "#f0f921"
             ]
            ],
            "type": "contour"
           }
          ],
          "contourcarpet": [
           {
            "colorbar": {
             "outlinewidth": 0,
             "ticks": ""
            },
            "type": "contourcarpet"
           }
          ],
          "heatmap": [
           {
            "colorbar": {
             "outlinewidth": 0,
             "ticks": ""
            },
            "colorscale": [
             [
              0,
              "#0d0887"
             ],
             [
              0.1111111111111111,
              "#46039f"
             ],
             [
              0.2222222222222222,
              "#7201a8"
             ],
             [
              0.3333333333333333,
              "#9c179e"
             ],
             [
              0.4444444444444444,
              "#bd3786"
             ],
             [
              0.5555555555555556,
              "#d8576b"
             ],
             [
              0.6666666666666666,
              "#ed7953"
             ],
             [
              0.7777777777777778,
              "#fb9f3a"
             ],
             [
              0.8888888888888888,
              "#fdca26"
             ],
             [
              1,
              "#f0f921"
             ]
            ],
            "type": "heatmap"
           }
          ],
          "heatmapgl": [
           {
            "colorbar": {
             "outlinewidth": 0,
             "ticks": ""
            },
            "colorscale": [
             [
              0,
              "#0d0887"
             ],
             [
              0.1111111111111111,
              "#46039f"
             ],
             [
              0.2222222222222222,
              "#7201a8"
             ],
             [
              0.3333333333333333,
              "#9c179e"
             ],
             [
              0.4444444444444444,
              "#bd3786"
             ],
             [
              0.5555555555555556,
              "#d8576b"
             ],
             [
              0.6666666666666666,
              "#ed7953"
             ],
             [
              0.7777777777777778,
              "#fb9f3a"
             ],
             [
              0.8888888888888888,
              "#fdca26"
             ],
             [
              1,
              "#f0f921"
             ]
            ],
            "type": "heatmapgl"
           }
          ],
          "histogram": [
           {
            "marker": {
             "pattern": {
              "fillmode": "overlay",
              "size": 10,
              "solidity": 0.2
             }
            },
            "type": "histogram"
           }
          ],
          "histogram2d": [
           {
            "colorbar": {
             "outlinewidth": 0,
             "ticks": ""
            },
            "colorscale": [
             [
              0,
              "#0d0887"
             ],
             [
              0.1111111111111111,
              "#46039f"
             ],
             [
              0.2222222222222222,
              "#7201a8"
             ],
             [
              0.3333333333333333,
              "#9c179e"
             ],
             [
              0.4444444444444444,
              "#bd3786"
             ],
             [
              0.5555555555555556,
              "#d8576b"
             ],
             [
              0.6666666666666666,
              "#ed7953"
             ],
             [
              0.7777777777777778,
              "#fb9f3a"
             ],
             [
              0.8888888888888888,
              "#fdca26"
             ],
             [
              1,
              "#f0f921"
             ]
            ],
            "type": "histogram2d"
           }
          ],
          "histogram2dcontour": [
           {
            "colorbar": {
             "outlinewidth": 0,
             "ticks": ""
            },
            "colorscale": [
             [
              0,
              "#0d0887"
             ],
             [
              0.1111111111111111,
              "#46039f"
             ],
             [
              0.2222222222222222,
              "#7201a8"
             ],
             [
              0.3333333333333333,
              "#9c179e"
             ],
             [
              0.4444444444444444,
              "#bd3786"
             ],
             [
              0.5555555555555556,
              "#d8576b"
             ],
             [
              0.6666666666666666,
              "#ed7953"
             ],
             [
              0.7777777777777778,
              "#fb9f3a"
             ],
             [
              0.8888888888888888,
              "#fdca26"
             ],
             [
              1,
              "#f0f921"
             ]
            ],
            "type": "histogram2dcontour"
           }
          ],
          "mesh3d": [
           {
            "colorbar": {
             "outlinewidth": 0,
             "ticks": ""
            },
            "type": "mesh3d"
           }
          ],
          "parcoords": [
           {
            "line": {
             "colorbar": {
              "outlinewidth": 0,
              "ticks": ""
             }
            },
            "type": "parcoords"
           }
          ],
          "pie": [
           {
            "automargin": true,
            "type": "pie"
           }
          ],
          "scatter": [
           {
            "fillpattern": {
             "fillmode": "overlay",
             "size": 10,
             "solidity": 0.2
            },
            "type": "scatter"
           }
          ],
          "scatter3d": [
           {
            "line": {
             "colorbar": {
              "outlinewidth": 0,
              "ticks": ""
             }
            },
            "marker": {
             "colorbar": {
              "outlinewidth": 0,
              "ticks": ""
             }
            },
            "type": "scatter3d"
           }
          ],
          "scattercarpet": [
           {
            "marker": {
             "colorbar": {
              "outlinewidth": 0,
              "ticks": ""
             }
            },
            "type": "scattercarpet"
           }
          ],
          "scattergeo": [
           {
            "marker": {
             "colorbar": {
              "outlinewidth": 0,
              "ticks": ""
             }
            },
            "type": "scattergeo"
           }
          ],
          "scattergl": [
           {
            "marker": {
             "colorbar": {
              "outlinewidth": 0,
              "ticks": ""
             }
            },
            "type": "scattergl"
           }
          ],
          "scattermapbox": [
           {
            "marker": {
             "colorbar": {
              "outlinewidth": 0,
              "ticks": ""
             }
            },
            "type": "scattermapbox"
           }
          ],
          "scatterpolar": [
           {
            "marker": {
             "colorbar": {
              "outlinewidth": 0,
              "ticks": ""
             }
            },
            "type": "scatterpolar"
           }
          ],
          "scatterpolargl": [
           {
            "marker": {
             "colorbar": {
              "outlinewidth": 0,
              "ticks": ""
             }
            },
            "type": "scatterpolargl"
           }
          ],
          "scatterternary": [
           {
            "marker": {
             "colorbar": {
              "outlinewidth": 0,
              "ticks": ""
             }
            },
            "type": "scatterternary"
           }
          ],
          "surface": [
           {
            "colorbar": {
             "outlinewidth": 0,
             "ticks": ""
            },
            "colorscale": [
             [
              0,
              "#0d0887"
             ],
             [
              0.1111111111111111,
              "#46039f"
             ],
             [
              0.2222222222222222,
              "#7201a8"
             ],
             [
              0.3333333333333333,
              "#9c179e"
             ],
             [
              0.4444444444444444,
              "#bd3786"
             ],
             [
              0.5555555555555556,
              "#d8576b"
             ],
             [
              0.6666666666666666,
              "#ed7953"
             ],
             [
              0.7777777777777778,
              "#fb9f3a"
             ],
             [
              0.8888888888888888,
              "#fdca26"
             ],
             [
              1,
              "#f0f921"
             ]
            ],
            "type": "surface"
           }
          ],
          "table": [
           {
            "cells": {
             "fill": {
              "color": "#EBF0F8"
             },
             "line": {
              "color": "white"
             }
            },
            "header": {
             "fill": {
              "color": "#C8D4E3"
             },
             "line": {
              "color": "white"
             }
            },
            "type": "table"
           }
          ]
         },
         "layout": {
          "annotationdefaults": {
           "arrowcolor": "#2a3f5f",
           "arrowhead": 0,
           "arrowwidth": 1
          },
          "autotypenumbers": "strict",
          "coloraxis": {
           "colorbar": {
            "outlinewidth": 0,
            "ticks": ""
           }
          },
          "colorscale": {
           "diverging": [
            [
             0,
             "#8e0152"
            ],
            [
             0.1,
             "#c51b7d"
            ],
            [
             0.2,
             "#de77ae"
            ],
            [
             0.3,
             "#f1b6da"
            ],
            [
             0.4,
             "#fde0ef"
            ],
            [
             0.5,
             "#f7f7f7"
            ],
            [
             0.6,
             "#e6f5d0"
            ],
            [
             0.7,
             "#b8e186"
            ],
            [
             0.8,
             "#7fbc41"
            ],
            [
             0.9,
             "#4d9221"
            ],
            [
             1,
             "#276419"
            ]
           ],
           "sequential": [
            [
             0,
             "#0d0887"
            ],
            [
             0.1111111111111111,
             "#46039f"
            ],
            [
             0.2222222222222222,
             "#7201a8"
            ],
            [
             0.3333333333333333,
             "#9c179e"
            ],
            [
             0.4444444444444444,
             "#bd3786"
            ],
            [
             0.5555555555555556,
             "#d8576b"
            ],
            [
             0.6666666666666666,
             "#ed7953"
            ],
            [
             0.7777777777777778,
             "#fb9f3a"
            ],
            [
             0.8888888888888888,
             "#fdca26"
            ],
            [
             1,
             "#f0f921"
            ]
           ],
           "sequentialminus": [
            [
             0,
             "#0d0887"
            ],
            [
             0.1111111111111111,
             "#46039f"
            ],
            [
             0.2222222222222222,
             "#7201a8"
            ],
            [
             0.3333333333333333,
             "#9c179e"
            ],
            [
             0.4444444444444444,
             "#bd3786"
            ],
            [
             0.5555555555555556,
             "#d8576b"
            ],
            [
             0.6666666666666666,
             "#ed7953"
            ],
            [
             0.7777777777777778,
             "#fb9f3a"
            ],
            [
             0.8888888888888888,
             "#fdca26"
            ],
            [
             1,
             "#f0f921"
            ]
           ]
          },
          "colorway": [
           "#636efa",
           "#EF553B",
           "#00cc96",
           "#ab63fa",
           "#FFA15A",
           "#19d3f3",
           "#FF6692",
           "#B6E880",
           "#FF97FF",
           "#FECB52"
          ],
          "font": {
           "color": "#2a3f5f"
          },
          "geo": {
           "bgcolor": "white",
           "lakecolor": "white",
           "landcolor": "#E5ECF6",
           "showlakes": true,
           "showland": true,
           "subunitcolor": "white"
          },
          "hoverlabel": {
           "align": "left"
          },
          "hovermode": "closest",
          "mapbox": {
           "style": "light"
          },
          "paper_bgcolor": "white",
          "plot_bgcolor": "#E5ECF6",
          "polar": {
           "angularaxis": {
            "gridcolor": "white",
            "linecolor": "white",
            "ticks": ""
           },
           "bgcolor": "#E5ECF6",
           "radialaxis": {
            "gridcolor": "white",
            "linecolor": "white",
            "ticks": ""
           }
          },
          "scene": {
           "xaxis": {
            "backgroundcolor": "#E5ECF6",
            "gridcolor": "white",
            "gridwidth": 2,
            "linecolor": "white",
            "showbackground": true,
            "ticks": "",
            "zerolinecolor": "white"
           },
           "yaxis": {
            "backgroundcolor": "#E5ECF6",
            "gridcolor": "white",
            "gridwidth": 2,
            "linecolor": "white",
            "showbackground": true,
            "ticks": "",
            "zerolinecolor": "white"
           },
           "zaxis": {
            "backgroundcolor": "#E5ECF6",
            "gridcolor": "white",
            "gridwidth": 2,
            "linecolor": "white",
            "showbackground": true,
            "ticks": "",
            "zerolinecolor": "white"
           }
          },
          "shapedefaults": {
           "line": {
            "color": "#2a3f5f"
           }
          },
          "ternary": {
           "aaxis": {
            "gridcolor": "white",
            "linecolor": "white",
            "ticks": ""
           },
           "baxis": {
            "gridcolor": "white",
            "linecolor": "white",
            "ticks": ""
           },
           "bgcolor": "#E5ECF6",
           "caxis": {
            "gridcolor": "white",
            "linecolor": "white",
            "ticks": ""
           }
          },
          "title": {
           "x": 0.05
          },
          "xaxis": {
           "automargin": true,
           "gridcolor": "white",
           "linecolor": "white",
           "ticks": "",
           "title": {
            "standoff": 15
           },
           "zerolinecolor": "white",
           "zerolinewidth": 2
          },
          "yaxis": {
           "automargin": true,
           "gridcolor": "white",
           "linecolor": "white",
           "ticks": "",
           "title": {
            "standoff": 15
           },
           "zerolinecolor": "white",
           "zerolinewidth": 2
          }
         }
        },
        "title": {
         "text": "Value per Capita by Country"
        }
       }
      }
     },
     "metadata": {},
     "output_type": "display_data"
    }
   ],
   "source": [
    "fig = px.choropleth(\n",
    "    avg_data_per_country,\n",
    "    locations='iso_alpha3',  \n",
    "    color='value_per_capita', \n",
    "    hover_name='area', \n",
    "    color_continuous_scale=px.colors.sequential.Plasma,  \n",
    "    projection='equirectangular', \n",
    "    title='Value per Capita by Country'\n",
    ")\n",
    "\n",
    "fig.show()"
   ]
  },
  {
   "cell_type": "code",
   "execution_count": 6,
   "metadata": {},
   "outputs": [
    {
     "data": {
      "application/vnd.plotly.v1+json": {
       "config": {
        "plotlyServerURL": "https://plot.ly"
       },
       "data": [
        {
         "coloraxis": "coloraxis",
         "geo": "geo",
         "hovertemplate": "<b>%{hovertext}</b><br><br>iso_alpha3=%{location}<br>value=%{z}<extra></extra>",
         "hovertext": [
          "Afghanistan",
          "Angola",
          "Albania",
          "United Arab Emirates",
          "Argentina",
          "Armenia",
          "Antigua and Barbuda",
          "Australia",
          "Austria",
          "Azerbaijan",
          "Belgium",
          "Benin",
          "Burkina Faso",
          "Bangladesh",
          "Bulgaria",
          "Bahamas",
          "Bosnia and Herzegovina",
          "Belarus",
          "Belize",
          "Bermuda",
          "Bolivia (Plurinational State of)",
          "Brazil",
          "Barbados",
          "Brunei Darussalam",
          "Botswana",
          "Central African Republic",
          "Canada",
          "Switzerland",
          "Chile",
          "China, mainland",
          "CÃ´te d'Ivoire",
          "Cameroon",
          "Congo",
          "Colombia",
          "Cabo Verde",
          "Costa Rica",
          "Cuba",
          "Cyprus",
          "Czechia",
          "Germany",
          "Djibouti",
          "Dominica",
          "Denmark",
          "Dominican Republic",
          "Algeria",
          "Ecuador",
          "Egypt",
          "Spain",
          "Estonia",
          "Ethiopia",
          "Finland",
          "Fiji",
          "France",
          "Gabon",
          "United Kingdom",
          "Georgia",
          "Ghana",
          "Guinea",
          "Gambia",
          "Guinea-Bissau",
          "Greece",
          "Grenada",
          "Guatemala",
          "Guyana",
          "China, Hong Kong SAR",
          "Honduras",
          "Croatia",
          "Haiti",
          "Hungary",
          "Indonesia",
          "India",
          "Ireland",
          "Iran (Islamic Republic of)",
          "Iraq",
          "Iceland",
          "Israel",
          "Italy",
          "Jamaica",
          "Jordan",
          "Japan",
          "Kazakhstan",
          "Kenya",
          "Kyrgyzstan",
          "Cambodia",
          "Kiribati",
          "Saint Kitts and Nevis",
          "Republic of Korea",
          "Kuwait",
          "Lao People's Democratic Republic",
          "Lebanon",
          "Liberia",
          "Saint Lucia",
          "Sri Lanka",
          "Lesotho",
          "Lithuania",
          "Luxembourg",
          "Latvia",
          "China, Macao SAR",
          "Morocco",
          "Republic of Moldova",
          "Madagascar",
          "Maldives",
          "Mexico",
          "Mali",
          "Malta",
          "Myanmar",
          "Montenegro",
          "Mongolia",
          "Mozambique",
          "Mauritania",
          "Mauritius",
          "Malawi",
          "Malaysia",
          "Namibia",
          "New Caledonia",
          "Niger",
          "Nigeria",
          "Nicaragua",
          "Netherlands",
          "Norway",
          "Nepal",
          "New Zealand",
          "Oman",
          "Pakistan",
          "Panama",
          "Peru",
          "Philippines",
          "Poland",
          "Democratic People's Republic of Korea",
          "Portugal",
          "Paraguay",
          "French Polynesia",
          "Romania",
          "Russian Federation",
          "Rwanda",
          "Saudi Arabia",
          "Sudan",
          "Senegal",
          "Solomon Islands",
          "Sierra Leone",
          "El Salvador",
          "Serbia",
          "Sao Tome and Principe",
          "Suriname",
          "Slovakia",
          "Slovenia",
          "Sweden",
          "Chad",
          "Togo",
          "Thailand",
          "Tajikistan",
          "Turkmenistan",
          "Timor-Leste",
          "Trinidad and Tobago",
          "Tunisia",
          "Turkey",
          "China, Taiwan Province of",
          "United Republic of Tanzania",
          "Uganda",
          "Ukraine",
          "Uruguay",
          "United States of America",
          "Uzbekistan",
          "Saint Vincent and the Grenadines",
          "Venezuela (Bolivarian Republic of)",
          "Viet Nam",
          "Vanuatu",
          "Samoa",
          "Yemen",
          "South Africa",
          "Zambia",
          "Zimbabwe"
         ],
         "locations": [
          "AFG",
          "AGO",
          "ALB",
          "ARE",
          "ARG",
          "ARM",
          "ATG",
          "AUS",
          "AUT",
          "AZE",
          "BEL",
          "BEN",
          "BFA",
          "BGD",
          "BGR",
          "BHS",
          "BIH",
          "BLR",
          "BLZ",
          "BMU",
          "BOL",
          "BRA",
          "BRB",
          "BRN",
          "BWA",
          "CAF",
          "CAN",
          "CHE",
          "CHL",
          "CHN",
          "CIV",
          "CMR",
          "COG",
          "COL",
          "CPV",
          "CRI",
          "CUB",
          "CYP",
          "CZE",
          "DEU",
          "DJI",
          "DMA",
          "DNK",
          "DOM",
          "DZA",
          "ECU",
          "EGY",
          "ESP",
          "EST",
          "ETH",
          "FIN",
          "FJI",
          "FRA",
          "GAB",
          "GBR",
          "GEO",
          "GHA",
          "GIN",
          "GMB",
          "GNB",
          "GRC",
          "GRD",
          "GTM",
          "GUY",
          "HKG",
          "HND",
          "HRV",
          "HTI",
          "HUN",
          "IDN",
          "IND",
          "IRL",
          "IRN",
          "IRQ",
          "ISL",
          "ISR",
          "ITA",
          "JAM",
          "JOR",
          "JPN",
          "KAZ",
          "KEN",
          "KGZ",
          "KHM",
          "KIR",
          "KNA",
          "KOR",
          "KWT",
          "LAO",
          "LBN",
          "LBR",
          "LCA",
          "LKA",
          "LSO",
          "LTU",
          "LUX",
          "LVA",
          "MAC",
          "MAR",
          "MDA",
          "MDG",
          "MDV",
          "MEX",
          "MLI",
          "MLT",
          "MMR",
          "MNE",
          "MNG",
          "MOZ",
          "MRT",
          "MUS",
          "MWI",
          "MYS",
          "NAM",
          "NCL",
          "NER",
          "NGA",
          "NIC",
          "NLD",
          "NOR",
          "NPL",
          "NZL",
          "OMN",
          "PAK",
          "PAN",
          "PER",
          "PHL",
          "POL",
          "PRK",
          "PRT",
          "PRY",
          "PYF",
          "ROU",
          "RUS",
          "RWA",
          "SAU",
          "SDN",
          "SEN",
          "SLB",
          "SLE",
          "SLV",
          "SRB",
          "STP",
          "SUR",
          "SVK",
          "SVN",
          "SWE",
          "TCD",
          "TGO",
          "THA",
          "TJK",
          "TKM",
          "TLS",
          "TTO",
          "TUN",
          "TUR",
          "TWN",
          "TZA",
          "UGA",
          "UKR",
          "URY",
          "USA",
          "UZB",
          "VCT",
          "VEN",
          "VNM",
          "VUT",
          "WSM",
          "YEM",
          "ZAF",
          "ZMB",
          "ZWE"
         ],
         "name": "",
         "type": "choropleth",
         "z": [
          35530.081,
          29784.193,
          2930.187,
          9400.145,
          44271.041,
          2930.45,
          102.012,
          24450.561,
          8735.453,
          9827.589,
          11429.336,
          11175.692,
          19193.382,
          164669.751,
          7084.571,
          395.361,
          3507.0170000000003,
          9468.338,
          374.681,
          61.34899999999999,
          11051.6,
          209288.278,
          285.719,
          428.697,
          2291.661,
          4659.08,
          36624.199,
          8476.005,
          18054.726,
          1409517.397,
          24294.75,
          24053.727,
          5260.75,
          49065.615,
          546.388,
          4905.769,
          11484.636,
          1179.551,
          10618.303,
          82114.224,
          956.985,
          73.925,
          5733.551,
          10766.998000000001,
          41318.142,
          16624.858,
          97553.151,
          46354.321,
          1309.632,
          104957.438,
          5523.231,
          905.502,
          64979.548,
          2025.137,
          66181.585,
          3912.061,
          28833.629,
          12717.175999999998,
          2100.568,
          1861.283,
          11159.773,
          107.825,
          16913.503,
          777.859,
          7364.883,
          9265.067,
          4189.353,
          10981.229,
          9721.559,
          263991.379,
          1339180.127,
          4761.657,
          81162.788,
          38274.618,
          335.025,
          8321.57,
          59359.90000000001,
          2890.299,
          9702.353,
          127484.44999999998,
          18204.499,
          49699.862,
          6045.117,
          16005.373,
          116.398,
          55.345,
          50982.212,
          4136.528,
          6858.16,
          6082.357,
          4731.906,
          178.84399999999997,
          20876.917,
          2233.339,
          2890.297,
          583.455,
          1949.67,
          622.567,
          35739.58,
          4051.2120000000004,
          25570.895,
          436.33,
          129163.276,
          18541.980000000003,
          430.835,
          53370.609,
          628.96,
          3075.647,
          29668.834,
          4420.184,
          1265.138,
          18622.104,
          31624.264000000003,
          2533.794,
          276.255,
          21477.348,
          190886.311,
          6217.581,
          17035.938,
          5305.383,
          29304.998,
          4705.818,
          4636.262,
          197015.955,
          4098.587,
          32165.485000000004,
          104918.09,
          38170.712,
          25490.965,
          10329.506,
          6811.297,
          283.007,
          19679.306,
          143989.754,
          12208.407,
          32938.213,
          40533.33,
          15850.567,
          611.343,
          7557.212,
          6377.853,
          8790.574,
          204.32700000000003,
          563.402,
          5447.662,
          2079.976,
          9910.701,
          14899.994,
          7797.694,
          69037.513,
          8921.343,
          5758.075,
          1296.311,
          1369.125,
          11532.127,
          80745.02,
          23626.456,
          57310.019,
          42862.958,
          44222.947,
          3456.75,
          324459.463,
          31910.641,
          109.897,
          31977.065,
          95540.80000000002,
          276.244,
          196.44,
          28250.42,
          56717.156,
          17094.13,
          16529.904
         ]
        }
       ],
       "layout": {
        "coloraxis": {
         "colorbar": {
          "title": {
           "text": "value"
          }
         },
         "colorscale": [
          [
           0,
           "#0d0887"
          ],
          [
           0.1111111111111111,
           "#46039f"
          ],
          [
           0.2222222222222222,
           "#7201a8"
          ],
          [
           0.3333333333333333,
           "#9c179e"
          ],
          [
           0.4444444444444444,
           "#bd3786"
          ],
          [
           0.5555555555555556,
           "#d8576b"
          ],
          [
           0.6666666666666666,
           "#ed7953"
          ],
          [
           0.7777777777777778,
           "#fb9f3a"
          ],
          [
           0.8888888888888888,
           "#fdca26"
          ],
          [
           1,
           "#f0f921"
          ]
         ]
        },
        "geo": {
         "center": {},
         "domain": {
          "x": [
           0,
           1
          ],
          "y": [
           0,
           1
          ]
         },
         "projection": {
          "type": "equirectangular"
         }
        },
        "legend": {
         "tracegroupgap": 0
        },
        "template": {
         "data": {
          "bar": [
           {
            "error_x": {
             "color": "#2a3f5f"
            },
            "error_y": {
             "color": "#2a3f5f"
            },
            "marker": {
             "line": {
              "color": "#E5ECF6",
              "width": 0.5
             },
             "pattern": {
              "fillmode": "overlay",
              "size": 10,
              "solidity": 0.2
             }
            },
            "type": "bar"
           }
          ],
          "barpolar": [
           {
            "marker": {
             "line": {
              "color": "#E5ECF6",
              "width": 0.5
             },
             "pattern": {
              "fillmode": "overlay",
              "size": 10,
              "solidity": 0.2
             }
            },
            "type": "barpolar"
           }
          ],
          "carpet": [
           {
            "aaxis": {
             "endlinecolor": "#2a3f5f",
             "gridcolor": "white",
             "linecolor": "white",
             "minorgridcolor": "white",
             "startlinecolor": "#2a3f5f"
            },
            "baxis": {
             "endlinecolor": "#2a3f5f",
             "gridcolor": "white",
             "linecolor": "white",
             "minorgridcolor": "white",
             "startlinecolor": "#2a3f5f"
            },
            "type": "carpet"
           }
          ],
          "choropleth": [
           {
            "colorbar": {
             "outlinewidth": 0,
             "ticks": ""
            },
            "type": "choropleth"
           }
          ],
          "contour": [
           {
            "colorbar": {
             "outlinewidth": 0,
             "ticks": ""
            },
            "colorscale": [
             [
              0,
              "#0d0887"
             ],
             [
              0.1111111111111111,
              "#46039f"
             ],
             [
              0.2222222222222222,
              "#7201a8"
             ],
             [
              0.3333333333333333,
              "#9c179e"
             ],
             [
              0.4444444444444444,
              "#bd3786"
             ],
             [
              0.5555555555555556,
              "#d8576b"
             ],
             [
              0.6666666666666666,
              "#ed7953"
             ],
             [
              0.7777777777777778,
              "#fb9f3a"
             ],
             [
              0.8888888888888888,
              "#fdca26"
             ],
             [
              1,
              "#f0f921"
             ]
            ],
            "type": "contour"
           }
          ],
          "contourcarpet": [
           {
            "colorbar": {
             "outlinewidth": 0,
             "ticks": ""
            },
            "type": "contourcarpet"
           }
          ],
          "heatmap": [
           {
            "colorbar": {
             "outlinewidth": 0,
             "ticks": ""
            },
            "colorscale": [
             [
              0,
              "#0d0887"
             ],
             [
              0.1111111111111111,
              "#46039f"
             ],
             [
              0.2222222222222222,
              "#7201a8"
             ],
             [
              0.3333333333333333,
              "#9c179e"
             ],
             [
              0.4444444444444444,
              "#bd3786"
             ],
             [
              0.5555555555555556,
              "#d8576b"
             ],
             [
              0.6666666666666666,
              "#ed7953"
             ],
             [
              0.7777777777777778,
              "#fb9f3a"
             ],
             [
              0.8888888888888888,
              "#fdca26"
             ],
             [
              1,
              "#f0f921"
             ]
            ],
            "type": "heatmap"
           }
          ],
          "heatmapgl": [
           {
            "colorbar": {
             "outlinewidth": 0,
             "ticks": ""
            },
            "colorscale": [
             [
              0,
              "#0d0887"
             ],
             [
              0.1111111111111111,
              "#46039f"
             ],
             [
              0.2222222222222222,
              "#7201a8"
             ],
             [
              0.3333333333333333,
              "#9c179e"
             ],
             [
              0.4444444444444444,
              "#bd3786"
             ],
             [
              0.5555555555555556,
              "#d8576b"
             ],
             [
              0.6666666666666666,
              "#ed7953"
             ],
             [
              0.7777777777777778,
              "#fb9f3a"
             ],
             [
              0.8888888888888888,
              "#fdca26"
             ],
             [
              1,
              "#f0f921"
             ]
            ],
            "type": "heatmapgl"
           }
          ],
          "histogram": [
           {
            "marker": {
             "pattern": {
              "fillmode": "overlay",
              "size": 10,
              "solidity": 0.2
             }
            },
            "type": "histogram"
           }
          ],
          "histogram2d": [
           {
            "colorbar": {
             "outlinewidth": 0,
             "ticks": ""
            },
            "colorscale": [
             [
              0,
              "#0d0887"
             ],
             [
              0.1111111111111111,
              "#46039f"
             ],
             [
              0.2222222222222222,
              "#7201a8"
             ],
             [
              0.3333333333333333,
              "#9c179e"
             ],
             [
              0.4444444444444444,
              "#bd3786"
             ],
             [
              0.5555555555555556,
              "#d8576b"
             ],
             [
              0.6666666666666666,
              "#ed7953"
             ],
             [
              0.7777777777777778,
              "#fb9f3a"
             ],
             [
              0.8888888888888888,
              "#fdca26"
             ],
             [
              1,
              "#f0f921"
             ]
            ],
            "type": "histogram2d"
           }
          ],
          "histogram2dcontour": [
           {
            "colorbar": {
             "outlinewidth": 0,
             "ticks": ""
            },
            "colorscale": [
             [
              0,
              "#0d0887"
             ],
             [
              0.1111111111111111,
              "#46039f"
             ],
             [
              0.2222222222222222,
              "#7201a8"
             ],
             [
              0.3333333333333333,
              "#9c179e"
             ],
             [
              0.4444444444444444,
              "#bd3786"
             ],
             [
              0.5555555555555556,
              "#d8576b"
             ],
             [
              0.6666666666666666,
              "#ed7953"
             ],
             [
              0.7777777777777778,
              "#fb9f3a"
             ],
             [
              0.8888888888888888,
              "#fdca26"
             ],
             [
              1,
              "#f0f921"
             ]
            ],
            "type": "histogram2dcontour"
           }
          ],
          "mesh3d": [
           {
            "colorbar": {
             "outlinewidth": 0,
             "ticks": ""
            },
            "type": "mesh3d"
           }
          ],
          "parcoords": [
           {
            "line": {
             "colorbar": {
              "outlinewidth": 0,
              "ticks": ""
             }
            },
            "type": "parcoords"
           }
          ],
          "pie": [
           {
            "automargin": true,
            "type": "pie"
           }
          ],
          "scatter": [
           {
            "fillpattern": {
             "fillmode": "overlay",
             "size": 10,
             "solidity": 0.2
            },
            "type": "scatter"
           }
          ],
          "scatter3d": [
           {
            "line": {
             "colorbar": {
              "outlinewidth": 0,
              "ticks": ""
             }
            },
            "marker": {
             "colorbar": {
              "outlinewidth": 0,
              "ticks": ""
             }
            },
            "type": "scatter3d"
           }
          ],
          "scattercarpet": [
           {
            "marker": {
             "colorbar": {
              "outlinewidth": 0,
              "ticks": ""
             }
            },
            "type": "scattercarpet"
           }
          ],
          "scattergeo": [
           {
            "marker": {
             "colorbar": {
              "outlinewidth": 0,
              "ticks": ""
             }
            },
            "type": "scattergeo"
           }
          ],
          "scattergl": [
           {
            "marker": {
             "colorbar": {
              "outlinewidth": 0,
              "ticks": ""
             }
            },
            "type": "scattergl"
           }
          ],
          "scattermapbox": [
           {
            "marker": {
             "colorbar": {
              "outlinewidth": 0,
              "ticks": ""
             }
            },
            "type": "scattermapbox"
           }
          ],
          "scatterpolar": [
           {
            "marker": {
             "colorbar": {
              "outlinewidth": 0,
              "ticks": ""
             }
            },
            "type": "scatterpolar"
           }
          ],
          "scatterpolargl": [
           {
            "marker": {
             "colorbar": {
              "outlinewidth": 0,
              "ticks": ""
             }
            },
            "type": "scatterpolargl"
           }
          ],
          "scatterternary": [
           {
            "marker": {
             "colorbar": {
              "outlinewidth": 0,
              "ticks": ""
             }
            },
            "type": "scatterternary"
           }
          ],
          "surface": [
           {
            "colorbar": {
             "outlinewidth": 0,
             "ticks": ""
            },
            "colorscale": [
             [
              0,
              "#0d0887"
             ],
             [
              0.1111111111111111,
              "#46039f"
             ],
             [
              0.2222222222222222,
              "#7201a8"
             ],
             [
              0.3333333333333333,
              "#9c179e"
             ],
             [
              0.4444444444444444,
              "#bd3786"
             ],
             [
              0.5555555555555556,
              "#d8576b"
             ],
             [
              0.6666666666666666,
              "#ed7953"
             ],
             [
              0.7777777777777778,
              "#fb9f3a"
             ],
             [
              0.8888888888888888,
              "#fdca26"
             ],
             [
              1,
              "#f0f921"
             ]
            ],
            "type": "surface"
           }
          ],
          "table": [
           {
            "cells": {
             "fill": {
              "color": "#EBF0F8"
             },
             "line": {
              "color": "white"
             }
            },
            "header": {
             "fill": {
              "color": "#C8D4E3"
             },
             "line": {
              "color": "white"
             }
            },
            "type": "table"
           }
          ]
         },
         "layout": {
          "annotationdefaults": {
           "arrowcolor": "#2a3f5f",
           "arrowhead": 0,
           "arrowwidth": 1
          },
          "autotypenumbers": "strict",
          "coloraxis": {
           "colorbar": {
            "outlinewidth": 0,
            "ticks": ""
           }
          },
          "colorscale": {
           "diverging": [
            [
             0,
             "#8e0152"
            ],
            [
             0.1,
             "#c51b7d"
            ],
            [
             0.2,
             "#de77ae"
            ],
            [
             0.3,
             "#f1b6da"
            ],
            [
             0.4,
             "#fde0ef"
            ],
            [
             0.5,
             "#f7f7f7"
            ],
            [
             0.6,
             "#e6f5d0"
            ],
            [
             0.7,
             "#b8e186"
            ],
            [
             0.8,
             "#7fbc41"
            ],
            [
             0.9,
             "#4d9221"
            ],
            [
             1,
             "#276419"
            ]
           ],
           "sequential": [
            [
             0,
             "#0d0887"
            ],
            [
             0.1111111111111111,
             "#46039f"
            ],
            [
             0.2222222222222222,
             "#7201a8"
            ],
            [
             0.3333333333333333,
             "#9c179e"
            ],
            [
             0.4444444444444444,
             "#bd3786"
            ],
            [
             0.5555555555555556,
             "#d8576b"
            ],
            [
             0.6666666666666666,
             "#ed7953"
            ],
            [
             0.7777777777777778,
             "#fb9f3a"
            ],
            [
             0.8888888888888888,
             "#fdca26"
            ],
            [
             1,
             "#f0f921"
            ]
           ],
           "sequentialminus": [
            [
             0,
             "#0d0887"
            ],
            [
             0.1111111111111111,
             "#46039f"
            ],
            [
             0.2222222222222222,
             "#7201a8"
            ],
            [
             0.3333333333333333,
             "#9c179e"
            ],
            [
             0.4444444444444444,
             "#bd3786"
            ],
            [
             0.5555555555555556,
             "#d8576b"
            ],
            [
             0.6666666666666666,
             "#ed7953"
            ],
            [
             0.7777777777777778,
             "#fb9f3a"
            ],
            [
             0.8888888888888888,
             "#fdca26"
            ],
            [
             1,
             "#f0f921"
            ]
           ]
          },
          "colorway": [
           "#636efa",
           "#EF553B",
           "#00cc96",
           "#ab63fa",
           "#FFA15A",
           "#19d3f3",
           "#FF6692",
           "#B6E880",
           "#FF97FF",
           "#FECB52"
          ],
          "font": {
           "color": "#2a3f5f"
          },
          "geo": {
           "bgcolor": "white",
           "lakecolor": "white",
           "landcolor": "#E5ECF6",
           "showlakes": true,
           "showland": true,
           "subunitcolor": "white"
          },
          "hoverlabel": {
           "align": "left"
          },
          "hovermode": "closest",
          "mapbox": {
           "style": "light"
          },
          "paper_bgcolor": "white",
          "plot_bgcolor": "#E5ECF6",
          "polar": {
           "angularaxis": {
            "gridcolor": "white",
            "linecolor": "white",
            "ticks": ""
           },
           "bgcolor": "#E5ECF6",
           "radialaxis": {
            "gridcolor": "white",
            "linecolor": "white",
            "ticks": ""
           }
          },
          "scene": {
           "xaxis": {
            "backgroundcolor": "#E5ECF6",
            "gridcolor": "white",
            "gridwidth": 2,
            "linecolor": "white",
            "showbackground": true,
            "ticks": "",
            "zerolinecolor": "white"
           },
           "yaxis": {
            "backgroundcolor": "#E5ECF6",
            "gridcolor": "white",
            "gridwidth": 2,
            "linecolor": "white",
            "showbackground": true,
            "ticks": "",
            "zerolinecolor": "white"
           },
           "zaxis": {
            "backgroundcolor": "#E5ECF6",
            "gridcolor": "white",
            "gridwidth": 2,
            "linecolor": "white",
            "showbackground": true,
            "ticks": "",
            "zerolinecolor": "white"
           }
          },
          "shapedefaults": {
           "line": {
            "color": "#2a3f5f"
           }
          },
          "ternary": {
           "aaxis": {
            "gridcolor": "white",
            "linecolor": "white",
            "ticks": ""
           },
           "baxis": {
            "gridcolor": "white",
            "linecolor": "white",
            "ticks": ""
           },
           "bgcolor": "#E5ECF6",
           "caxis": {
            "gridcolor": "white",
            "linecolor": "white",
            "ticks": ""
           }
          },
          "title": {
           "x": 0.05
          },
          "xaxis": {
           "automargin": true,
           "gridcolor": "white",
           "linecolor": "white",
           "ticks": "",
           "title": {
            "standoff": 15
           },
           "zerolinecolor": "white",
           "zerolinewidth": 2
          },
          "yaxis": {
           "automargin": true,
           "gridcolor": "white",
           "linecolor": "white",
           "ticks": "",
           "title": {
            "standoff": 15
           },
           "zerolinecolor": "white",
           "zerolinewidth": 2
          }
         }
        },
        "title": {
         "text": "Value by Country"
        }
       }
      }
     },
     "metadata": {},
     "output_type": "display_data"
    }
   ],
   "source": [
    "fig = px.choropleth(\n",
    "    avg_data_per_country,\n",
    "    locations='iso_alpha3',  \n",
    "    color='value', \n",
    "    hover_name='area', \n",
    "    color_continuous_scale=px.colors.sequential.Plasma,  \n",
    "    projection='equirectangular', \n",
    "    title='Value by Country'\n",
    ")\n",
    "\n",
    "fig.show()"
   ]
  },
  {
   "cell_type": "code",
   "execution_count": 7,
   "metadata": {},
   "outputs": [
    {
     "data": {
      "application/vnd.plotly.v1+json": {
       "config": {
        "plotlyServerURL": "https://plot.ly"
       },
       "data": [
        {
         "coloraxis": "coloraxis",
         "geo": "geo",
         "hovertemplate": "<b>%{hovertext}</b><br><br>iso_alpha3=%{location}<br>average_production=%{z}<extra></extra>",
         "hovertext": [
          "Afghanistan",
          "Angola",
          "Albania",
          "United Arab Emirates",
          "Argentina",
          "Armenia",
          "Antigua and Barbuda",
          "Australia",
          "Austria",
          "Azerbaijan",
          "Belgium",
          "Benin",
          "Burkina Faso",
          "Bangladesh",
          "Bulgaria",
          "Bahamas",
          "Bosnia and Herzegovina",
          "Belarus",
          "Belize",
          "Bermuda",
          "Bolivia (Plurinational State of)",
          "Brazil",
          "Barbados",
          "Brunei Darussalam",
          "Botswana",
          "Central African Republic",
          "Canada",
          "Switzerland",
          "Chile",
          "China, mainland",
          "CÃ´te d'Ivoire",
          "Cameroon",
          "Congo",
          "Colombia",
          "Cabo Verde",
          "Costa Rica",
          "Cuba",
          "Cyprus",
          "Czechia",
          "Germany",
          "Djibouti",
          "Dominica",
          "Denmark",
          "Dominican Republic",
          "Algeria",
          "Ecuador",
          "Egypt",
          "Spain",
          "Estonia",
          "Ethiopia",
          "Finland",
          "Fiji",
          "France",
          "Gabon",
          "United Kingdom",
          "Georgia",
          "Ghana",
          "Guinea",
          "Gambia",
          "Guinea-Bissau",
          "Greece",
          "Grenada",
          "Guatemala",
          "Guyana",
          "China, Hong Kong SAR",
          "Honduras",
          "Croatia",
          "Haiti",
          "Hungary",
          "Indonesia",
          "India",
          "Ireland",
          "Iran (Islamic Republic of)",
          "Iraq",
          "Iceland",
          "Israel",
          "Italy",
          "Jamaica",
          "Jordan",
          "Japan",
          "Kazakhstan",
          "Kenya",
          "Kyrgyzstan",
          "Cambodia",
          "Kiribati",
          "Saint Kitts and Nevis",
          "Republic of Korea",
          "Kuwait",
          "Lao People's Democratic Republic",
          "Lebanon",
          "Liberia",
          "Saint Lucia",
          "Sri Lanka",
          "Lesotho",
          "Lithuania",
          "Luxembourg",
          "Latvia",
          "China, Macao SAR",
          "Morocco",
          "Republic of Moldova",
          "Madagascar",
          "Maldives",
          "Mexico",
          "Mali",
          "Malta",
          "Myanmar",
          "Montenegro",
          "Mongolia",
          "Mozambique",
          "Mauritania",
          "Mauritius",
          "Malawi",
          "Malaysia",
          "Namibia",
          "New Caledonia",
          "Niger",
          "Nigeria",
          "Nicaragua",
          "Netherlands",
          "Norway",
          "Nepal",
          "New Zealand",
          "Oman",
          "Pakistan",
          "Panama",
          "Peru",
          "Philippines",
          "Poland",
          "Democratic People's Republic of Korea",
          "Portugal",
          "Paraguay",
          "French Polynesia",
          "Romania",
          "Russian Federation",
          "Rwanda",
          "Saudi Arabia",
          "Sudan",
          "Senegal",
          "Solomon Islands",
          "Sierra Leone",
          "El Salvador",
          "Serbia",
          "Sao Tome and Principe",
          "Suriname",
          "Slovakia",
          "Slovenia",
          "Sweden",
          "Chad",
          "Togo",
          "Thailand",
          "Tajikistan",
          "Turkmenistan",
          "Timor-Leste",
          "Trinidad and Tobago",
          "Tunisia",
          "Turkey",
          "China, Taiwan Province of",
          "United Republic of Tanzania",
          "Uganda",
          "Ukraine",
          "Uruguay",
          "United States of America",
          "Uzbekistan",
          "Saint Vincent and the Grenadines",
          "Venezuela (Bolivarian Republic of)",
          "Viet Nam",
          "Vanuatu",
          "Samoa",
          "Yemen",
          "South Africa",
          "Zambia",
          "Zimbabwe"
         ],
         "locations": [
          "AFG",
          "AGO",
          "ALB",
          "ARE",
          "ARG",
          "ARM",
          "ATG",
          "AUS",
          "AUT",
          "AZE",
          "BEL",
          "BEN",
          "BFA",
          "BGD",
          "BGR",
          "BHS",
          "BIH",
          "BLR",
          "BLZ",
          "BMU",
          "BOL",
          "BRA",
          "BRB",
          "BRN",
          "BWA",
          "CAF",
          "CAN",
          "CHE",
          "CHL",
          "CHN",
          "CIV",
          "CMR",
          "COG",
          "COL",
          "CPV",
          "CRI",
          "CUB",
          "CYP",
          "CZE",
          "DEU",
          "DJI",
          "DMA",
          "DNK",
          "DOM",
          "DZA",
          "ECU",
          "EGY",
          "ESP",
          "EST",
          "ETH",
          "FIN",
          "FJI",
          "FRA",
          "GAB",
          "GBR",
          "GEO",
          "GHA",
          "GIN",
          "GMB",
          "GNB",
          "GRC",
          "GRD",
          "GTM",
          "GUY",
          "HKG",
          "HND",
          "HRV",
          "HTI",
          "HUN",
          "IDN",
          "IND",
          "IRL",
          "IRN",
          "IRQ",
          "ISL",
          "ISR",
          "ITA",
          "JAM",
          "JOR",
          "JPN",
          "KAZ",
          "KEN",
          "KGZ",
          "KHM",
          "KIR",
          "KNA",
          "KOR",
          "KWT",
          "LAO",
          "LBN",
          "LBR",
          "LCA",
          "LKA",
          "LSO",
          "LTU",
          "LUX",
          "LVA",
          "MAC",
          "MAR",
          "MDA",
          "MDG",
          "MDV",
          "MEX",
          "MLI",
          "MLT",
          "MMR",
          "MNE",
          "MNG",
          "MOZ",
          "MRT",
          "MUS",
          "MWI",
          "MYS",
          "NAM",
          "NCL",
          "NER",
          "NGA",
          "NIC",
          "NLD",
          "NOR",
          "NPL",
          "NZL",
          "OMN",
          "PAK",
          "PAN",
          "PER",
          "PHL",
          "POL",
          "PRK",
          "PRT",
          "PRY",
          "PYF",
          "ROU",
          "RUS",
          "RWA",
          "SAU",
          "SDN",
          "SEN",
          "SLB",
          "SLE",
          "SLV",
          "SRB",
          "STP",
          "SUR",
          "SVK",
          "SVN",
          "SWE",
          "TCD",
          "TGO",
          "THA",
          "TJK",
          "TKM",
          "TLS",
          "TTO",
          "TUN",
          "TUR",
          "TWN",
          "TZA",
          "UGA",
          "UKR",
          "URY",
          "USA",
          "UZB",
          "VCT",
          "VEN",
          "VNM",
          "VUT",
          "WSM",
          "YEM",
          "ZAF",
          "ZMB",
          "ZWE"
         ],
         "name": "",
         "type": "choropleth",
         "z": [
          156.66333257558534,
          122.21152847498703,
          36.38625556066881,
          34.384687353812566,
          503.1711919005983,
          40.24025974025974,
          0.7169811320754718,
          335.21314858490564,
          173.19356590199538,
          104.47067448680352,
          251.29936974789914,
          54.21028866311885,
          77.30976210008203,
          499.5195582144501,
          155.07913263869332,
          3.1319128171763175,
          57.7558651026393,
          318.1145038167939,
          2.580357142857143,
          0.9036453562923612,
          62.327250231982674,
          1903.076573474728,
          3.1902385778886635,
          2.397955974842767,
          10.045584905660379,
          28.54024580231954,
          649.9990566037735,
          133.3837816138097,
          163.85112028301887,
          9853.819979322821,
          130.93927382273665,
          121.27169811320755,
          22.360377358490567,
          327.9072327044025,
          3.522071911712353,
          32.24279654819365,
          148.85911031538356,
          14.184486373165619,
          209.7279438907346,
          1578.8014375561547,
          2.8642214776935284,
          1.2531021587625362,
          185.19641645174426,
          75.59164420485175,
          232.89911746804626,
          113.72190932131794,
          618.2006477048719,
          723.7440251572327,
          28.547811447811448,
          376.13505747126436,
          111.44403461483898,
          6.7532075471698105,
          1184.5048517520215,
          12.822955974842767,
          947.1510753397546,
          49.40191387559808,
          182.8570754716981,
          59.399090296495956,
          5.979734451432565,
          7.963093510263321,
          191.9864098165985,
          1.0029874213836478,
          60.558635703918725,
          10.430632630410654,
          54.28557242162009,
          39.15708976558033,
          90.93481324876674,
          53.08459119496855,
          233.29285144831252,
          1092.9772386942197,
          5146.317938608843,
          94.82200332963373,
          633.398427672956,
          161.9561320754717,
          4.641962264150943,
          90.61705101327743,
          986.0175930647629,
          26.89075630252101,
          37.6658743128807,
          1298.3825042881647,
          245.51644100580273,
          176.12019016490862,
          77.96151026392961,
          54.70624593363695,
          0.8843837816138097,
          0.4006098723079855,
          473.21346099690226,
          22.635632539437054,
          35.80096189419164,
          40.85198186339038,
          20.407089765580334,
          1.6638228055783428,
          110.45654434705096,
          15.668427672955973,
          76.91980519480519,
          10.570866141732283,
          43.53442513368984,
          2.931233432091065,
          216.41465555068012,
          66.22902097902099,
          98.00392452830188,
          2.239658925979681,
          936.922542204568,
          63.36320754716981,
          6.066908563134978,
          281.4580525606469,
          15.197033898305085,
          18.967560410460113,
          121.038728897716,
          15.92729342875732,
          9.091485650864119,
          73.61525157232704,
          153.49281892424668,
          11.972867612661782,
          2.0115547754863243,
          61.88535337384074,
          1059.2797061788854,
          24.42533274828141,
          372.6805834336946,
          87.55741239892184,
          130.18400124746609,
          67.2359898620107,
          29.267809139784944,
          754.4143850191516,
          22.826995645863573,
          186.05574614065182,
          468.5652404996013,
          1011.9671198668145,
          209.269986383972,
          173.96353139960573,
          84.71512527064647,
          2.1833775144238268,
          426.0842948282883,
          2563.6257465162575,
          88.90670859538785,
          180.7123367198839,
          414.4423076923077,
          45.42578616352201,
          4.034150943396226,
          28.908380078191396,
          39.2121915820029,
          189.3051181102362,
          1.5305826249222476,
          4.594014313597918,
          89.71721611721613,
          36.73347107438017,
          166.86752591017805,
          39.927276057886054,
          29.603281378178835,
          445.92784099092614,
          73.09001782531195,
          109.88585858585859,
          7.094120228170251,
          12.120303176906951,
          92.33992213237497,
          893.215212264151,
          241.2682992104911,
          233.37457949393007,
          236.28346456692913,
          1024.6953867028494,
          44.13648813146683,
          5582.654355680449,
          319.93237250554324,
          1.1623680110784145,
          194.59840348330914,
          531.120304656396,
          2.2330974842767297,
          2.3296645702306082,
          72.90074520374186,
          329.0530997304582,
          49.63632075471698,
          54.74707625136441
         ]
        }
       ],
       "layout": {
        "coloraxis": {
         "colorbar": {
          "title": {
           "text": "average_production"
          }
         },
         "colorscale": [
          [
           0,
           "#0d0887"
          ],
          [
           0.1111111111111111,
           "#46039f"
          ],
          [
           0.2222222222222222,
           "#7201a8"
          ],
          [
           0.3333333333333333,
           "#9c179e"
          ],
          [
           0.4444444444444444,
           "#bd3786"
          ],
          [
           0.5555555555555556,
           "#d8576b"
          ],
          [
           0.6666666666666666,
           "#ed7953"
          ],
          [
           0.7777777777777778,
           "#fb9f3a"
          ],
          [
           0.8888888888888888,
           "#fdca26"
          ],
          [
           1,
           "#f0f921"
          ]
         ]
        },
        "geo": {
         "center": {},
         "domain": {
          "x": [
           0,
           1
          ],
          "y": [
           0,
           1
          ]
         },
         "projection": {
          "type": "equirectangular"
         }
        },
        "legend": {
         "tracegroupgap": 0
        },
        "template": {
         "data": {
          "bar": [
           {
            "error_x": {
             "color": "#2a3f5f"
            },
            "error_y": {
             "color": "#2a3f5f"
            },
            "marker": {
             "line": {
              "color": "#E5ECF6",
              "width": 0.5
             },
             "pattern": {
              "fillmode": "overlay",
              "size": 10,
              "solidity": 0.2
             }
            },
            "type": "bar"
           }
          ],
          "barpolar": [
           {
            "marker": {
             "line": {
              "color": "#E5ECF6",
              "width": 0.5
             },
             "pattern": {
              "fillmode": "overlay",
              "size": 10,
              "solidity": 0.2
             }
            },
            "type": "barpolar"
           }
          ],
          "carpet": [
           {
            "aaxis": {
             "endlinecolor": "#2a3f5f",
             "gridcolor": "white",
             "linecolor": "white",
             "minorgridcolor": "white",
             "startlinecolor": "#2a3f5f"
            },
            "baxis": {
             "endlinecolor": "#2a3f5f",
             "gridcolor": "white",
             "linecolor": "white",
             "minorgridcolor": "white",
             "startlinecolor": "#2a3f5f"
            },
            "type": "carpet"
           }
          ],
          "choropleth": [
           {
            "colorbar": {
             "outlinewidth": 0,
             "ticks": ""
            },
            "type": "choropleth"
           }
          ],
          "contour": [
           {
            "colorbar": {
             "outlinewidth": 0,
             "ticks": ""
            },
            "colorscale": [
             [
              0,
              "#0d0887"
             ],
             [
              0.1111111111111111,
              "#46039f"
             ],
             [
              0.2222222222222222,
              "#7201a8"
             ],
             [
              0.3333333333333333,
              "#9c179e"
             ],
             [
              0.4444444444444444,
              "#bd3786"
             ],
             [
              0.5555555555555556,
              "#d8576b"
             ],
             [
              0.6666666666666666,
              "#ed7953"
             ],
             [
              0.7777777777777778,
              "#fb9f3a"
             ],
             [
              0.8888888888888888,
              "#fdca26"
             ],
             [
              1,
              "#f0f921"
             ]
            ],
            "type": "contour"
           }
          ],
          "contourcarpet": [
           {
            "colorbar": {
             "outlinewidth": 0,
             "ticks": ""
            },
            "type": "contourcarpet"
           }
          ],
          "heatmap": [
           {
            "colorbar": {
             "outlinewidth": 0,
             "ticks": ""
            },
            "colorscale": [
             [
              0,
              "#0d0887"
             ],
             [
              0.1111111111111111,
              "#46039f"
             ],
             [
              0.2222222222222222,
              "#7201a8"
             ],
             [
              0.3333333333333333,
              "#9c179e"
             ],
             [
              0.4444444444444444,
              "#bd3786"
             ],
             [
              0.5555555555555556,
              "#d8576b"
             ],
             [
              0.6666666666666666,
              "#ed7953"
             ],
             [
              0.7777777777777778,
              "#fb9f3a"
             ],
             [
              0.8888888888888888,
              "#fdca26"
             ],
             [
              1,
              "#f0f921"
             ]
            ],
            "type": "heatmap"
           }
          ],
          "heatmapgl": [
           {
            "colorbar": {
             "outlinewidth": 0,
             "ticks": ""
            },
            "colorscale": [
             [
              0,
              "#0d0887"
             ],
             [
              0.1111111111111111,
              "#46039f"
             ],
             [
              0.2222222222222222,
              "#7201a8"
             ],
             [
              0.3333333333333333,
              "#9c179e"
             ],
             [
              0.4444444444444444,
              "#bd3786"
             ],
             [
              0.5555555555555556,
              "#d8576b"
             ],
             [
              0.6666666666666666,
              "#ed7953"
             ],
             [
              0.7777777777777778,
              "#fb9f3a"
             ],
             [
              0.8888888888888888,
              "#fdca26"
             ],
             [
              1,
              "#f0f921"
             ]
            ],
            "type": "heatmapgl"
           }
          ],
          "histogram": [
           {
            "marker": {
             "pattern": {
              "fillmode": "overlay",
              "size": 10,
              "solidity": 0.2
             }
            },
            "type": "histogram"
           }
          ],
          "histogram2d": [
           {
            "colorbar": {
             "outlinewidth": 0,
             "ticks": ""
            },
            "colorscale": [
             [
              0,
              "#0d0887"
             ],
             [
              0.1111111111111111,
              "#46039f"
             ],
             [
              0.2222222222222222,
              "#7201a8"
             ],
             [
              0.3333333333333333,
              "#9c179e"
             ],
             [
              0.4444444444444444,
              "#bd3786"
             ],
             [
              0.5555555555555556,
              "#d8576b"
             ],
             [
              0.6666666666666666,
              "#ed7953"
             ],
             [
              0.7777777777777778,
              "#fb9f3a"
             ],
             [
              0.8888888888888888,
              "#fdca26"
             ],
             [
              1,
              "#f0f921"
             ]
            ],
            "type": "histogram2d"
           }
          ],
          "histogram2dcontour": [
           {
            "colorbar": {
             "outlinewidth": 0,
             "ticks": ""
            },
            "colorscale": [
             [
              0,
              "#0d0887"
             ],
             [
              0.1111111111111111,
              "#46039f"
             ],
             [
              0.2222222222222222,
              "#7201a8"
             ],
             [
              0.3333333333333333,
              "#9c179e"
             ],
             [
              0.4444444444444444,
              "#bd3786"
             ],
             [
              0.5555555555555556,
              "#d8576b"
             ],
             [
              0.6666666666666666,
              "#ed7953"
             ],
             [
              0.7777777777777778,
              "#fb9f3a"
             ],
             [
              0.8888888888888888,
              "#fdca26"
             ],
             [
              1,
              "#f0f921"
             ]
            ],
            "type": "histogram2dcontour"
           }
          ],
          "mesh3d": [
           {
            "colorbar": {
             "outlinewidth": 0,
             "ticks": ""
            },
            "type": "mesh3d"
           }
          ],
          "parcoords": [
           {
            "line": {
             "colorbar": {
              "outlinewidth": 0,
              "ticks": ""
             }
            },
            "type": "parcoords"
           }
          ],
          "pie": [
           {
            "automargin": true,
            "type": "pie"
           }
          ],
          "scatter": [
           {
            "fillpattern": {
             "fillmode": "overlay",
             "size": 10,
             "solidity": 0.2
            },
            "type": "scatter"
           }
          ],
          "scatter3d": [
           {
            "line": {
             "colorbar": {
              "outlinewidth": 0,
              "ticks": ""
             }
            },
            "marker": {
             "colorbar": {
              "outlinewidth": 0,
              "ticks": ""
             }
            },
            "type": "scatter3d"
           }
          ],
          "scattercarpet": [
           {
            "marker": {
             "colorbar": {
              "outlinewidth": 0,
              "ticks": ""
             }
            },
            "type": "scattercarpet"
           }
          ],
          "scattergeo": [
           {
            "marker": {
             "colorbar": {
              "outlinewidth": 0,
              "ticks": ""
             }
            },
            "type": "scattergeo"
           }
          ],
          "scattergl": [
           {
            "marker": {
             "colorbar": {
              "outlinewidth": 0,
              "ticks": ""
             }
            },
            "type": "scattergl"
           }
          ],
          "scattermapbox": [
           {
            "marker": {
             "colorbar": {
              "outlinewidth": 0,
              "ticks": ""
             }
            },
            "type": "scattermapbox"
           }
          ],
          "scatterpolar": [
           {
            "marker": {
             "colorbar": {
              "outlinewidth": 0,
              "ticks": ""
             }
            },
            "type": "scatterpolar"
           }
          ],
          "scatterpolargl": [
           {
            "marker": {
             "colorbar": {
              "outlinewidth": 0,
              "ticks": ""
             }
            },
            "type": "scatterpolargl"
           }
          ],
          "scatterternary": [
           {
            "marker": {
             "colorbar": {
              "outlinewidth": 0,
              "ticks": ""
             }
            },
            "type": "scatterternary"
           }
          ],
          "surface": [
           {
            "colorbar": {
             "outlinewidth": 0,
             "ticks": ""
            },
            "colorscale": [
             [
              0,
              "#0d0887"
             ],
             [
              0.1111111111111111,
              "#46039f"
             ],
             [
              0.2222222222222222,
              "#7201a8"
             ],
             [
              0.3333333333333333,
              "#9c179e"
             ],
             [
              0.4444444444444444,
              "#bd3786"
             ],
             [
              0.5555555555555556,
              "#d8576b"
             ],
             [
              0.6666666666666666,
              "#ed7953"
             ],
             [
              0.7777777777777778,
              "#fb9f3a"
             ],
             [
              0.8888888888888888,
              "#fdca26"
             ],
             [
              1,
              "#f0f921"
             ]
            ],
            "type": "surface"
           }
          ],
          "table": [
           {
            "cells": {
             "fill": {
              "color": "#EBF0F8"
             },
             "line": {
              "color": "white"
             }
            },
            "header": {
             "fill": {
              "color": "#C8D4E3"
             },
             "line": {
              "color": "white"
             }
            },
            "type": "table"
           }
          ]
         },
         "layout": {
          "annotationdefaults": {
           "arrowcolor": "#2a3f5f",
           "arrowhead": 0,
           "arrowwidth": 1
          },
          "autotypenumbers": "strict",
          "coloraxis": {
           "colorbar": {
            "outlinewidth": 0,
            "ticks": ""
           }
          },
          "colorscale": {
           "diverging": [
            [
             0,
             "#8e0152"
            ],
            [
             0.1,
             "#c51b7d"
            ],
            [
             0.2,
             "#de77ae"
            ],
            [
             0.3,
             "#f1b6da"
            ],
            [
             0.4,
             "#fde0ef"
            ],
            [
             0.5,
             "#f7f7f7"
            ],
            [
             0.6,
             "#e6f5d0"
            ],
            [
             0.7,
             "#b8e186"
            ],
            [
             0.8,
             "#7fbc41"
            ],
            [
             0.9,
             "#4d9221"
            ],
            [
             1,
             "#276419"
            ]
           ],
           "sequential": [
            [
             0,
             "#0d0887"
            ],
            [
             0.1111111111111111,
             "#46039f"
            ],
            [
             0.2222222222222222,
             "#7201a8"
            ],
            [
             0.3333333333333333,
             "#9c179e"
            ],
            [
             0.4444444444444444,
             "#bd3786"
            ],
            [
             0.5555555555555556,
             "#d8576b"
            ],
            [
             0.6666666666666666,
             "#ed7953"
            ],
            [
             0.7777777777777778,
             "#fb9f3a"
            ],
            [
             0.8888888888888888,
             "#fdca26"
            ],
            [
             1,
             "#f0f921"
            ]
           ],
           "sequentialminus": [
            [
             0,
             "#0d0887"
            ],
            [
             0.1111111111111111,
             "#46039f"
            ],
            [
             0.2222222222222222,
             "#7201a8"
            ],
            [
             0.3333333333333333,
             "#9c179e"
            ],
            [
             0.4444444444444444,
             "#bd3786"
            ],
            [
             0.5555555555555556,
             "#d8576b"
            ],
            [
             0.6666666666666666,
             "#ed7953"
            ],
            [
             0.7777777777777778,
             "#fb9f3a"
            ],
            [
             0.8888888888888888,
             "#fdca26"
            ],
            [
             1,
             "#f0f921"
            ]
           ]
          },
          "colorway": [
           "#636efa",
           "#EF553B",
           "#00cc96",
           "#ab63fa",
           "#FFA15A",
           "#19d3f3",
           "#FF6692",
           "#B6E880",
           "#FF97FF",
           "#FECB52"
          ],
          "font": {
           "color": "#2a3f5f"
          },
          "geo": {
           "bgcolor": "white",
           "lakecolor": "white",
           "landcolor": "#E5ECF6",
           "showlakes": true,
           "showland": true,
           "subunitcolor": "white"
          },
          "hoverlabel": {
           "align": "left"
          },
          "hovermode": "closest",
          "mapbox": {
           "style": "light"
          },
          "paper_bgcolor": "white",
          "plot_bgcolor": "#E5ECF6",
          "polar": {
           "angularaxis": {
            "gridcolor": "white",
            "linecolor": "white",
            "ticks": ""
           },
           "bgcolor": "#E5ECF6",
           "radialaxis": {
            "gridcolor": "white",
            "linecolor": "white",
            "ticks": ""
           }
          },
          "scene": {
           "xaxis": {
            "backgroundcolor": "#E5ECF6",
            "gridcolor": "white",
            "gridwidth": 2,
            "linecolor": "white",
            "showbackground": true,
            "ticks": "",
            "zerolinecolor": "white"
           },
           "yaxis": {
            "backgroundcolor": "#E5ECF6",
            "gridcolor": "white",
            "gridwidth": 2,
            "linecolor": "white",
            "showbackground": true,
            "ticks": "",
            "zerolinecolor": "white"
           },
           "zaxis": {
            "backgroundcolor": "#E5ECF6",
            "gridcolor": "white",
            "gridwidth": 2,
            "linecolor": "white",
            "showbackground": true,
            "ticks": "",
            "zerolinecolor": "white"
           }
          },
          "shapedefaults": {
           "line": {
            "color": "#2a3f5f"
           }
          },
          "ternary": {
           "aaxis": {
            "gridcolor": "white",
            "linecolor": "white",
            "ticks": ""
           },
           "baxis": {
            "gridcolor": "white",
            "linecolor": "white",
            "ticks": ""
           },
           "bgcolor": "#E5ECF6",
           "caxis": {
            "gridcolor": "white",
            "linecolor": "white",
            "ticks": ""
           }
          },
          "title": {
           "x": 0.05
          },
          "xaxis": {
           "automargin": true,
           "gridcolor": "white",
           "linecolor": "white",
           "ticks": "",
           "title": {
            "standoff": 15
           },
           "zerolinecolor": "white",
           "zerolinewidth": 2
          },
          "yaxis": {
           "automargin": true,
           "gridcolor": "white",
           "linecolor": "white",
           "ticks": "",
           "title": {
            "standoff": 15
           },
           "zerolinecolor": "white",
           "zerolinewidth": 2
          }
         }
        },
        "title": {
         "text": "Average Production by Country"
        }
       }
      }
     },
     "metadata": {},
     "output_type": "display_data"
    }
   ],
   "source": [
    "fig = px.choropleth(\n",
    "    avg_data_per_country,\n",
    "    locations='iso_alpha3',  \n",
    "    color='average_production', \n",
    "    hover_name='area', \n",
    "    color_continuous_scale=px.colors.sequential.Plasma,  \n",
    "    projection='equirectangular', \n",
    "    title='Average Production by Country'\n",
    ")\n",
    "\n",
    "fig.show()"
   ]
  },
  {
   "cell_type": "markdown",
   "metadata": {},
   "source": [
    "**Analysis:**\n",
    "\n",
    "> Some countries in North America, Europe, and parts of Asia tend to have higher value per capita, value, and average production. These are represented by lighter colored hues, while some regions in Africa, South America, and parts of Asia exhibit lower values.\n",
    "\n",
    ">The overall distribution of colors on the map reveals regional disparities. For example, there appears to be a concentration of higher values in developed countries and regions with strong economies, while lower values are more prevalent in developing countries and regions facing economic challenges."
   ]
  },
  {
   "cell_type": "markdown",
   "metadata": {},
   "source": []
  }
 ],
 "metadata": {
  "kernelspec": {
   "display_name": "Python 3",
   "language": "python",
   "name": "python3"
  },
  "language_info": {
   "codemirror_mode": {
    "name": "ipython",
    "version": 3
   },
   "file_extension": ".py",
   "mimetype": "text/x-python",
   "name": "python",
   "nbconvert_exporter": "python",
   "pygments_lexer": "ipython3",
   "version": "3.12.0"
  }
 },
 "nbformat": 4,
 "nbformat_minor": 2
}
